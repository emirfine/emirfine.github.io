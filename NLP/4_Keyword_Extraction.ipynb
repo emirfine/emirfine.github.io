{
  "cells": [
    {
      "cell_type": "markdown",
      "metadata": {
        "id": "q1Q9mWDrgMUn"
      },
      "source": [
        "# 핵심 키워드 추출 (Keyword Extraction)"
      ]
    },
    {
      "cell_type": "code",
      "execution_count": null,
      "metadata": {
        "id": "s0x0BGgIszm3"
      },
      "outputs": [],
      "source": [
        "# Mecab 설치\n",
        "!apt-get update\n",
        "!apt-get install g++ openjdk-8-jdk\n",
        "!pip3 install konlpy JPype1-py3\n",
        "!bash <(curl -s https://raw.githubusercontent.com/konlpy/konlpy/master/scripts/mecab.sh)"
      ]
    },
    {
      "cell_type": "code",
      "execution_count": null,
      "metadata": {
        "id": "KV4a6uBBu0xT"
      },
      "outputs": [],
      "source": [
        "# mecab-python의 버전 오류로 인해 아래 패키지를 설치하면 코랩에서 Mecab을 사용가능\n",
        "!pip install mecab-python3"
      ]
    },
    {
      "cell_type": "code",
      "execution_count": null,
      "metadata": {
        "id": "WRkyhbFZ3g_Z"
      },
      "outputs": [],
      "source": [
        "!sudo apt-get install -y fonts-nanum\n",
        "!sudo fc-cache -fv\n",
        "!rm ~/.cache/matplotlib -rf\n",
        "\n",
        "# 패키지 업그레이드로 인한 에러 처리를 위해 라이브러리 버전 Downgrade\n",
        "!pip install 'networkx<2.7'\n",
        "\n",
        "# 런타임 재시작 !"
      ]
    },
    {
      "cell_type": "code",
      "execution_count": null,
      "metadata": {
        "id": "mKris8Gl3g_a"
      },
      "outputs": [],
      "source": [
        "import matplotlib.pyplot as plt\n",
        "plt.rc('font', family='NanumBarunGothic')\n",
        "plt.rcParams['axes.unicode_minus'] = False\n",
        "\n",
        "import warnings\n",
        "warnings.filterwarnings('ignore')"
      ]
    },
    {
      "cell_type": "markdown",
      "metadata": {
        "id": "jxsBfWirA9ao"
      },
      "source": [
        "# 1.1 TF-IDF 활용 핵심키워드 추출"
      ]
    },
    {
      "cell_type": "markdown",
      "metadata": {
        "id": "u8UYUNHDNMVp"
      },
      "source": [
        "## 실습 1. sklearn 활용"
      ]
    },
    {
      "cell_type": "code",
      "execution_count": null,
      "metadata": {
        "id": "fdsHZk1UBtRP"
      },
      "outputs": [],
      "source": [
        "import requests\n",
        "from bs4 import BeautifulSoup\n",
        "\n",
        "def get_news_by_url(url):\n",
        "    res = requests.get(url, headers = {\n",
        "        'User-Agent': 'Mozilla/5.0'\n",
        "    })\n",
        "    bs = BeautifulSoup(res.content, 'html.parser')\n",
        "\n",
        "    title = bs.select_one('#title_area').text #제목\n",
        "    content = bs.select_one('#contents').get_text().replace('\\n', \" \") #본문\n",
        "    content = content.replace(\"// flash 오류를 우회하기 위한 함수 추가 function _flash_removeCallback() {}\", \"\")\n",
        "    return  content.strip()\n",
        "\n",
        "docs = []\n",
        "docs.append( get_news_by_url('https://news.naver.com/main/read.nhn?mode=LSD&mid=sec&sid1=105&oid=018&aid=0004430108') )\n",
        "docs.append( get_news_by_url('https://news.naver.com/main/read.nhn?mode=LSD&mid=sec&sid1=101&oid=001&aid=0011614790') )\n",
        "docs.append( get_news_by_url('https://news.naver.com/main/read.nhn?mode=LSD&mid=sec&sid1=102&oid=014&aid=0004424362') )\n",
        "docs.append( get_news_by_url('https://news.naver.com/main/read.nhn?mode=LSD&mid=sec&sid1=101&oid=119&aid=0002402191') )\n",
        "docs.append( get_news_by_url('https://news.naver.com/main/read.nhn?mode=LSD&mid=sec&sid1=101&oid=030&aid=0002882728') )\n",
        "len(docs)"
      ]
    },
    {
      "cell_type": "markdown",
      "metadata": {
        "id": "Of0dQ_ALpLw6"
      },
      "source": [
        "### 1) 전처리"
      ]
    },
    {
      "cell_type": "code",
      "execution_count": null,
      "metadata": {
        "id": "tfGX-_IxAbgt"
      },
      "outputs": [],
      "source": [
        "from konlpy.tag import Mecab\n",
        "mecab = Mecab()\n",
        "\n",
        "preprocessed_docs = []\n",
        "for doc in docs :\n",
        "    # 명사와 동사만으로 문서 전처리\n",
        "    preprocessed_docs.append(' '.join([token[0] for token in mecab.pos(doc) if token[1][0] in ['N', 'V']]))\n",
        "preprocessed_docs[0][:100]"
      ]
    },
    {
      "cell_type": "markdown",
      "metadata": {
        "id": "JqZ9ONgLpOzv"
      },
      "source": [
        "### 2) TF-IDF 계산"
      ]
    },
    {
      "cell_type": "code",
      "execution_count": null,
      "metadata": {
        "id": "Okub07GQ-KJe"
      },
      "outputs": [],
      "source": [
        "from sklearn.feature_extraction.text import CountVectorizer\n",
        "\n",
        "count_vectorizer = CountVectorizer(max_df=0.85, max_features=10000)\n",
        "word_count_vector = count_vectorizer.fit_transform(preprocessed_docs)\n",
        "list(count_vectorizer.vocabulary_.keys())[:10]"
      ]
    },
    {
      "cell_type": "code",
      "execution_count": null,
      "metadata": {
        "id": "em3l3IS5kRP-"
      },
      "outputs": [],
      "source": [
        "from sklearn.feature_extraction.text import TfidfTransformer\n",
        "\n",
        "tfidf_transformer = TfidfTransformer(smooth_idf=True, use_idf=True)\n",
        "tfidf_transformer.fit(word_count_vector)"
      ]
    },
    {
      "cell_type": "markdown",
      "metadata": {
        "id": "an6Cngd2Cwjg"
      },
      "source": [
        "### 3) 핵심키워드 추출"
      ]
    },
    {
      "cell_type": "code",
      "execution_count": null,
      "metadata": {
        "id": "yKrcZ9rh-5Rt"
      },
      "outputs": [],
      "source": [
        "def sort_keywords(keywords):\n",
        "    return sorted(zip(keywords.col, keywords.data), key=lambda x: (x[1], x[0]), reverse=True)\n",
        "\n",
        "def extract_keywords(feature_names, sorted_keywords, n=5):\n",
        "    return [(feature_names[idx], score) for idx, score in sorted_keywords[:n]]"
      ]
    },
    {
      "cell_type": "code",
      "execution_count": null,
      "metadata": {
        "id": "u_8wXmex-1gr"
      },
      "outputs": [],
      "source": [
        "doc = preprocessed_docs[0] # 핵심키워드 추출할 문서 조회\n",
        "\n",
        "feature_names = count_vectorizer.get_feature_names() # TF-IDF 단어 목록\n",
        "tf_idf_vector = tfidf_transformer.transform(count_vectorizer.transform([doc])) # 문서의 tf-idf 추출\n",
        "sorted_keywords = sort_keywords(tf_idf_vector.tocoo()) # TF-IDF를 기준으로 역순 정렬\n",
        "\n",
        "# 사용자가 지정한 갯수만큼 키워드 추출\n",
        "keywords = extract_keywords(feature_names, sorted_keywords, 5)\n",
        "\n",
        "print(\"\\n===== 원문 =====\")\n",
        "print(docs[0][:100])\n",
        "print(\"\\n=== 핵심키워드 ===\")\n",
        "for k in keywords:\n",
        "    print(k)"
      ]
    },
    {
      "cell_type": "code",
      "execution_count": null,
      "metadata": {
        "id": "kUVTXBYrZMiU"
      },
      "outputs": [],
      "source": [
        "tf_idf_vector.tocoo().data"
      ]
    },
    {
      "cell_type": "markdown",
      "metadata": {
        "id": "lwQjPYuxNy4K"
      },
      "source": [
        "\n",
        "---\n"
      ]
    },
    {
      "cell_type": "markdown",
      "metadata": {
        "id": "XTNnFrNhOrA3"
      },
      "source": [
        "## 실습 2. gensim 활용\n"
      ]
    },
    {
      "cell_type": "markdown",
      "metadata": {
        "id": "aE-YzDI6OrA5"
      },
      "source": [
        "### 1) 전처리"
      ]
    },
    {
      "cell_type": "code",
      "execution_count": null,
      "metadata": {
        "id": "edVMwQBuOrA6"
      },
      "outputs": [],
      "source": [
        "from konlpy.tag import Mecab\n",
        "mecab = Mecab()\n",
        "\n",
        "preprocessed_docs = []\n",
        "for doc in docs :\n",
        "    # 명사와 동사만으로 문서 전처리\n",
        "    preprocessed_docs.append(' '.join([token[0] for token in mecab.pos(doc) if token[1][0] in ['N', 'V']]))\n",
        "preprocessed_docs[0][:100]"
      ]
    },
    {
      "cell_type": "markdown",
      "metadata": {
        "id": "cWGsCRJUOrA8"
      },
      "source": [
        "### 2) TF-IDF 계산"
      ]
    },
    {
      "cell_type": "code",
      "execution_count": null,
      "metadata": {
        "id": "NCUzeqp3OrA9"
      },
      "outputs": [],
      "source": [
        "from gensim.models import TfidfModel\n",
        "from gensim.corpora import Dictionary\n",
        "\n",
        "document_ls = [doc.split() for doc in preprocessed_docs]\n",
        "dct = Dictionary(document_ls) # 인덱스(key) - 단어(value) 인 딕셔너리 생성\n",
        "corpus = [dct.doc2bow(doc) for doc in document_ls] # 각 문서에 포함된 단어를 인덱스로 변환하여 corpus 생성\n",
        "tfidf = TfidfModel(corpus) # TF-IDF 산출"
      ]
    },
    {
      "cell_type": "markdown",
      "metadata": {
        "id": "wBT2h57bOrBF"
      },
      "source": [
        "### 3) 핵심키워드 추출"
      ]
    },
    {
      "cell_type": "code",
      "execution_count": null,
      "metadata": {
        "id": "Xk0Tbo21RddA"
      },
      "outputs": [],
      "source": [
        "def sort_keywords(tfidf):\n",
        "    return sorted(tfidf, key=lambda x: (x[1], x[0]), reverse=True)\n",
        "\n",
        "def extract_keywords(feature_names, sorted_keywords, n=5):\n",
        "    return [(feature_names[idx], score) for idx, score in sorted_keywords[:n]]"
      ]
    },
    {
      "cell_type": "code",
      "execution_count": null,
      "metadata": {
        "id": "_8T0QSKVRfUt"
      },
      "outputs": [],
      "source": [
        "doc = corpus[0]\n",
        "\n",
        "sorted_keywords = sort_keywords(tfidf[doc]) # TF-IDF를 기준으로 역순 정렬\n",
        "\n",
        "# 사용자가 지정한 갯수만큼 키워드 추출\n",
        "keywords = extract_keywords(dct, sorted_keywords, 5)\n",
        "\n",
        "print(\"\\n=== 핵심키워드 ===\")\n",
        "for k in keywords:\n",
        "    print(k)"
      ]
    },
    {
      "cell_type": "code",
      "execution_count": null,
      "metadata": {
        "id": "8gBGnkhCZSlw"
      },
      "outputs": [],
      "source": [
        "tfidf[doc]"
      ]
    },
    {
      "cell_type": "markdown",
      "metadata": {
        "id": "hZpm1wtTqxL-"
      },
      "source": [
        "\n",
        "\n",
        "---\n",
        "\n"
      ]
    },
    {
      "cell_type": "markdown",
      "metadata": {
        "id": "mfekkYshBAVS"
      },
      "source": [
        "# 1.2 Textrank\n",
        "https://web.eecs.umich.edu/~mihalcea/papers/mihalcea.emnlp04.pdf"
      ]
    },
    {
      "cell_type": "markdown",
      "metadata": {
        "id": "bn58myMFF-nN"
      },
      "source": [
        "<img src=\"https://3.bp.blogspot.com/-yp0Lr3ec5EY/XIs6znCcO_I/AAAAAAAAAPY/xtZxe_OYtH0xeuWsp4Qd4DQrunGMpVQmQCLcBGAs/s640/keyword-extraction-textrank.png\" />"
      ]
    },
    {
      "cell_type": "markdown",
      "metadata": {
        "id": "kxZBz6vLlyga"
      },
      "source": [
        "## 실습 1. 행렬 활용\n"
      ]
    },
    {
      "cell_type": "code",
      "source": [
        "doc = '딸기 바나나 사과 딸기 파인애플'"
      ],
      "metadata": {
        "id": "uDQqASKMGzXD"
      },
      "execution_count": 1,
      "outputs": []
    },
    {
      "cell_type": "markdown",
      "metadata": {
        "id": "9QmtIyyHlygg"
      },
      "source": [
        "### 1) 토큰화 (Tokenization)\n",
        "\n",
        "분석 텍스트 정제"
      ]
    },
    {
      "cell_type": "code",
      "source": [
        "tokens = doc.split()\n",
        "tokens"
      ],
      "metadata": {
        "colab": {
          "base_uri": "https://localhost:8080/"
        },
        "id": "ABgRUxvLHFGW",
        "outputId": "2f9b31b4-44ca-45dc-a5f4-8531486f1cea"
      },
      "execution_count": 7,
      "outputs": [
        {
          "output_type": "execute_result",
          "data": {
            "text/plain": [
              "['딸기', '바나나', '사과', '딸기', '파인애플']"
            ]
          },
          "metadata": {},
          "execution_count": 7
        }
      ]
    },
    {
      "cell_type": "markdown",
      "metadata": {
        "id": "YBJSuIvKlygw"
      },
      "source": [
        "### 2) Unique한 토큰 목록 생성\n",
        "\n",
        "그래프 생성을 위해서 Unique한 토큰 목록 생성"
      ]
    },
    {
      "cell_type": "code",
      "execution_count": 5,
      "metadata": {
        "id": "X-WdT3gz3FMc"
      },
      "outputs": [],
      "source": [
        "nodes = list(set(tokens))\n",
        "node_scores = [1.0] * len(nodes)"
      ]
    },
    {
      "cell_type": "code",
      "source": [
        "nodes, node_scores"
      ],
      "metadata": {
        "colab": {
          "base_uri": "https://localhost:8080/"
        },
        "id": "U6qbUgqYHiXF",
        "outputId": "24d76954-fb38-49ae-a5ae-d0ecd78c4644"
      },
      "execution_count": 6,
      "outputs": [
        {
          "output_type": "execute_result",
          "data": {
            "text/plain": [
              "(['딸기', '사과', '바나나', '파인애플'], [1.0, 1.0, 1.0, 1.0])"
            ]
          },
          "metadata": {},
          "execution_count": 6
        }
      ]
    },
    {
      "cell_type": "code",
      "source": [
        "# 연결 정보\n",
        "edges = {node:set() for node in nodes} # 중복으로 값 넣지 않기 위한 set() 자료형 사용\n",
        "\n",
        "{\n",
        "    '딸기': set(),\n",
        "    '사과': set(),\n",
        "}\n",
        "\n",
        "window_size = 2 # 한번에 고려할 토큰 수\n",
        "\n",
        "# 전체 길이의 - window_size + 1\n",
        "for i in range(len(tokens) - window_size + 1):\n",
        "    # print(tokens[i:i+window_size])\n",
        "    # 한번에 고려하는 토큰들을 담는 리스트\n",
        "    context = tokens[i:i+window_size]\n",
        "    # start_token = 0 부터 시작해서, 마지막 - 1\n",
        "    for s_token in range(window_size-1):\n",
        "        # start_token보다 1 큰 토큰부터 마지막까지\n",
        "        for e_token in range(s_token+1, window_size):\n",
        "            # print('s', context[s_token])\n",
        "            # print('e', context[e_token])\n",
        "            # 무방향이기 때문에, 양쪽 모두에 추가\n",
        "            edges[context[s_token]].add(context[e_token])\n",
        "            edges[context[e_token]].add(context[s_token])\n",
        "edges"
      ],
      "metadata": {
        "colab": {
          "base_uri": "https://localhost:8080/"
        },
        "id": "OLxwDY38Hqpg",
        "outputId": "359a63aa-be3f-49c2-d452-cc8d86da02ca"
      },
      "execution_count": 19,
      "outputs": [
        {
          "output_type": "execute_result",
          "data": {
            "text/plain": [
              "{'딸기': {'바나나', '사과', '파인애플'},\n",
              " '사과': {'딸기', '바나나'},\n",
              " '바나나': {'딸기', '사과'},\n",
              " '파인애플': {'딸기'}}"
            ]
          },
          "metadata": {},
          "execution_count": 19
        }
      ]
    },
    {
      "cell_type": "code",
      "source": [
        "node2idx = {v: i for i, v in enumerate(nodes)}"
      ],
      "metadata": {
        "id": "6oOja1fDNH7y"
      },
      "execution_count": 22,
      "outputs": []
    },
    {
      "cell_type": "code",
      "source": [
        "node2idx"
      ],
      "metadata": {
        "colab": {
          "base_uri": "https://localhost:8080/"
        },
        "id": "agKDhslZNR6I",
        "outputId": "265497fe-5258-4580-c953-e7529fb4865d"
      },
      "execution_count": 23,
      "outputs": [
        {
          "output_type": "execute_result",
          "data": {
            "text/plain": [
              "{'딸기': 0, '사과': 1, '바나나': 2, '파인애플': 3}"
            ]
          },
          "metadata": {},
          "execution_count": 23
        }
      ]
    },
    {
      "cell_type": "code",
      "source": [
        "d = 0.85\n",
        "for epoch in range(20):\n",
        "    new_scores = [0] * len(nodes)\n",
        "    for node in edges:\n",
        "        connected_nodes = edges[node]\n",
        "        # print(node, connected_nodes)\n",
        "        edge_sum = 0\n",
        "        for come_node in connected_nodes:\n",
        "            cnt = len(edges[come_node]) # 몇개와 연결되어 있는지\n",
        "            node_score = node_scores[node2idx[come_node]]\n",
        "            edge_sum += node_score / cnt # 나에게 들어오는 edge 가중치\n",
        "\n",
        "        new_scores[node2idx[node]] = (1-d) + d * edge_sum # 새 스코어에 넣어준다\n",
        "\n",
        "    # 기존 스코어 최신화\n",
        "    node_scores = new_scores\n",
        "\n",
        "new_scores"
      ],
      "metadata": {
        "colab": {
          "base_uri": "https://localhost:8080/"
        },
        "id": "BUmir8oCMgUm",
        "outputId": "4ce9b771-3865-440e-d35d-c73de0053583"
      },
      "execution_count": 28,
      "outputs": [
        {
          "output_type": "execute_result",
          "data": {
            "text/plain": [
              "[1.4669434685404021, 0.9837112743532418, 0.9837112743532418, 0.565633982753114]"
            ]
          },
          "metadata": {},
          "execution_count": 28
        }
      ]
    },
    {
      "cell_type": "code",
      "source": [],
      "metadata": {
        "id": "V0tXOm68OY2u"
      },
      "execution_count": null,
      "outputs": []
    },
    {
      "cell_type": "code",
      "source": [
        "# 특정 노드의 Textrank 점수 = (1-d) + d * (나한테 들어오는 엣지 가중치들의 합)\n"
      ],
      "metadata": {
        "id": "g2vB48X9LwWf"
      },
      "execution_count": null,
      "outputs": []
    },
    {
      "cell_type": "code",
      "source": [],
      "metadata": {
        "id": "QsLZcEkhPRMG"
      },
      "execution_count": null,
      "outputs": []
    },
    {
      "cell_type": "markdown",
      "metadata": {
        "id": "P9Tvibn1lyg3"
      },
      "source": [
        "### 3) 그래프 생성 (weighted edge 계산)\n",
        "\n",
        "*   TextRank는 그래프 기반 모델\n",
        "*   각 단어(토큰)은 그래프의 노드(vertex)\n",
        "*   weighted_edge 행렬은 노드간 가중치 정보를 담고 있음\n",
        "*   weighted_edge[i][j] 는 i번째 단어와 j번째 단어의 가중치를 의미\n",
        "*   weighted_edge[i][j] 가 0인 경우는 노드간 연결이 없음을 의미\n",
        "*   모든 노드는 1로 초기화"
      ]
    },
    {
      "cell_type": "code",
      "execution_count": null,
      "metadata": {
        "id": "nP8PJUnMlyg3"
      },
      "outputs": [],
      "source": [
        "# 그래프 구조 잡기\n",
        "\n",
        "# 무방향\n",
        "    # 시작노드에 끝 노드 추가\n",
        "    # 끝 노드에도 시작 노드 추가\n",
        "\n",
        "# 1. window_size 만큼 토큰들을 가져온다 (context)\n",
        "# 2. 2개씩 짝지어준다 (조합) -> 이중 반복문\n",
        "# 3. edges에 추가해준다 (중복 x) set 자료형 활용\n"
      ]
    },
    {
      "cell_type": "markdown",
      "metadata": {
        "id": "loXJ9c7jlyg8"
      },
      "source": [
        "### 4) 각 노드의 score계산\n",
        "각 노드와 연결된 weighted edge의 값을 합산"
      ]
    },
    {
      "cell_type": "code",
      "execution_count": null,
      "metadata": {
        "id": "R9IOS9Oolyg8"
      },
      "outputs": [],
      "source": [
        "# score 계산 로직\n",
        "\n",
        "# 1. Textrank score 계산할 노드 선택 (반복문)\n",
        "# 2. 해당 노드와 연결된 노드들 (반복문)\n",
        "    # score, 연결된 노드 수를 통해 엣지 가중치 계산\n",
        "    # 새로운 score를 new_scores에 담아준다\n",
        "# 3. 계산이 끝나면 기존 노드 스코어 갱신\n"
      ]
    },
    {
      "cell_type": "markdown",
      "metadata": {
        "id": "wia32INGlyhA"
      },
      "source": [
        "### 5) 핵심 단어 추출"
      ]
    },
    {
      "cell_type": "code",
      "execution_count": null,
      "metadata": {
        "id": "DMVQR-TqlyhB"
      },
      "outputs": [],
      "source": []
    },
    {
      "cell_type": "code",
      "execution_count": 29,
      "metadata": {
        "id": "AXThGqhpOoaU",
        "colab": {
          "base_uri": "https://localhost:8080/"
        },
        "outputId": "74fdcf4e-4408-451d-bef2-d2b449c8516c"
      },
      "outputs": [
        {
          "output_type": "execute_result",
          "data": {
            "text/plain": [
              "['딸기', '사과', '바나나', '파인애플']"
            ]
          },
          "metadata": {},
          "execution_count": 29
        }
      ],
      "source": [
        "nodes"
      ]
    },
    {
      "cell_type": "code",
      "source": [
        "# numpy array 특성을 활용\n",
        "\n",
        "edge_matrix = [\n",
        "    [0, 1/3, 1/3, 1/3], # 딸기에서 나가는 가중치들 (딸기, 사과,  바나나, 파인애플 순)\n",
        "    [0.5, 0, 0.5, 0] # 사과에서 나가는 가중치들\n",
        "    [0.5, 0.5, 0, 0] # 바나나에서 나가는 가중치들\n",
        "    [1, 0, 0, 0] # 파인애플에서 나가는 가중치들\n",
        "]\n",
        "\n",
        "# edge_matrix에 스코어를 행으로 곱하면 그때의 엣지 가중치가 된다\n",
        "weighted_edge_matrix\n",
        "\n",
        "# 이것을 열로 더해준면 그때의 나에게 들어오는 엣지 가중치들의 합이 된다\n",
        "\n",
        "# damping factor 곱해서 점수 최신화\n",
        "\n",
        "# [0 * 딸기 스코어, 1/3 * 딸기 스코어, 1/3 * 딸기 스코어, 1/3 * 딸기 스코어]"
      ],
      "metadata": {
        "id": "TIph73GPUNZ5"
      },
      "execution_count": null,
      "outputs": []
    },
    {
      "cell_type": "markdown",
      "metadata": {
        "id": "vOuNI7WSBcgU"
      },
      "source": [
        "---"
      ]
    },
    {
      "cell_type": "markdown",
      "metadata": {
        "id": "YZ8Uu6Rqbfyi"
      },
      "source": [
        "## 실습 2. 그래프 활용"
      ]
    },
    {
      "cell_type": "code",
      "execution_count": null,
      "metadata": {
        "id": "Nk06RCeMbfyk"
      },
      "outputs": [],
      "source": [
        "import requests\n",
        "from bs4 import BeautifulSoup\n",
        "\n",
        "def get_news_by_url(url):\n",
        "    res = requests.get(url, headers = {\n",
        "        'User-Agent': 'Mozilla/5.0'\n",
        "    })\n",
        "    bs = BeautifulSoup(res.content, 'html.parser')\n",
        "\n",
        "    title = bs.select_one('#title_area').text #제목\n",
        "    content = bs.select_one('#contents').get_text().replace('\\n', \" \") #본문\n",
        "    content = content.replace(\"// flash 오류를 우회하기 위한 함수 추가 function _flash_removeCallback() {}\", \"\")\n",
        "    return content.strip()\n",
        "\n",
        "doc = get_news_by_url('https://news.naver.com/main/read.nhn?mode=LSD&mid=sec&sid1=105&oid=018&aid=0004430108')\n",
        "doc[:50]"
      ]
    },
    {
      "cell_type": "markdown",
      "metadata": {
        "id": "683iA8igbfym"
      },
      "source": [
        "### 1) 토큰화 (Tokenization)\n",
        "\n",
        "분석 텍스트 정제"
      ]
    },
    {
      "cell_type": "code",
      "execution_count": null,
      "metadata": {
        "id": "3SxuV1Zkbfyn"
      },
      "outputs": [],
      "source": [
        "from konlpy.tag import Mecab\n",
        "mecab = Mecab()\n",
        "\n",
        "nodes = [token for token in mecab.pos(doc) if token[1] in ['NNG','NNP']] #NNG, NNP를 스코어 계산 대상(노드)로 제한\n",
        "tokens = [token for token in mecab.pos(doc)] #탐색할 토큰 전체"
      ]
    },
    {
      "cell_type": "markdown",
      "metadata": {
        "id": "iY8re-9gbfy9"
      },
      "source": [
        "### 2) 그래프 생성 (weighted edge 계산)\n",
        "\n",
        "*   TextRank는 그래프 기반 모델\n",
        "*   각 단어(토큰)은 그래프의 노드(vertex) 없음을 의미\n",
        "*   모든 노드는 1로 초기화"
      ]
    },
    {
      "cell_type": "code",
      "execution_count": null,
      "metadata": {
        "id": "phYnQIcBbfy9"
      },
      "outputs": [],
      "source": [
        "import numpy as np\n",
        "import math\n",
        "import networkx as nx\n",
        "\n",
        "# 윈도내 동시 등장한 토큰으로 그래프를 생성\n",
        "def connect(nodes, tokens) :\n",
        "    window_size = 2 # coocurrence를 판단하기 위한 window 사이즈 설정\n",
        "\n",
        "    edges = []\n",
        "    for window_start in range(0,(len(tokens)-window_size+1)):\n",
        "        window = tokens[window_start:window_start+window_size]\n",
        "        for i in range(window_size) :\n",
        "            for j in range(i+1, window_size) :\n",
        "                if (window[i] in nodes) & (window[j] in nodes) : #윈도 내 단어가 노드에 속하는 경우만 엣지로 연결\n",
        "                    edges.append((window[i], window[j]))\n",
        "                    print((window[i], window[j]))\n",
        "    return edges\n",
        "\n",
        "# tokens = ['딸기', '바나나', '사과', '딸기', '파인애플']\n",
        "# nodes = ['바나나', '사과', '파인애플', '딸기']\n",
        "\n",
        "graph=nx.diamond_graph()\n",
        "graph.clear()\n",
        "graph.add_nodes_from(list(set(nodes))) #node 등록\n",
        "graph.add_edges_from(connect(nodes, tokens)) #edge 연결"
      ]
    },
    {
      "cell_type": "markdown",
      "metadata": {
        "id": "3c4KZdyufiBM"
      },
      "source": [
        "### 3) 스코어 계산 및 핵심키워드 추출"
      ]
    },
    {
      "cell_type": "code",
      "execution_count": null,
      "metadata": {
        "id": "h5pHA1WverhB"
      },
      "outputs": [],
      "source": [
        "scores = nx.pagerank(graph) #pagerank 계산\n",
        "rank = sorted(scores.items(), key=lambda x: x[1], reverse=True) #score 역순 정렬\n",
        "print(\"\\n=== 핵심키워드 ===\")\n",
        "rank[:5]"
      ]
    },
    {
      "cell_type": "code",
      "execution_count": null,
      "metadata": {
        "id": "4gS0BOJlu1Mf"
      },
      "outputs": [],
      "source": [
        "import networkx as nx\n",
        "from IPython.core.display import Image\n",
        "from networkx.drawing.nx_pydot import to_pydot\n",
        "\n",
        "d = to_pydot(graph)\n",
        "d.set_dpi(600)\n",
        "d.set_rankdir(\"LR\")\n",
        "Image(d.create_png(), width=600)"
      ]
    },
    {
      "cell_type": "markdown",
      "metadata": {
        "id": "8VsT2BazfadH"
      },
      "source": [
        "---"
      ]
    },
    {
      "cell_type": "markdown",
      "metadata": {
        "id": "kqX9Fid_a-S1"
      },
      "source": [
        "## 실습 3. TextRank 핵심 구 추출"
      ]
    },
    {
      "cell_type": "markdown",
      "metadata": {
        "id": "Tm_CV9CEbz2K"
      },
      "source": [
        "### 1) 불용어를 기준으로 구 추출"
      ]
    },
    {
      "cell_type": "code",
      "execution_count": null,
      "metadata": {
        "id": "zGyVMVbubfzJ"
      },
      "outputs": [],
      "source": [
        "phrases = []\n",
        "phrase = ' '\n",
        "\n",
        "for word in tokens:\n",
        "    if word[1][0] != 'N':\n",
        "        if phrase != ' ':\n",
        "            phrases.append(phrase.strip())\n",
        "        phrase= ' '\n",
        "    else:\n",
        "        phrase+=word[0]\n",
        "        phrase+= ' '\n",
        "\n",
        "print(phrases)"
      ]
    },
    {
      "cell_type": "code",
      "execution_count": null,
      "metadata": {
        "id": "1RKObP9ebfzM"
      },
      "outputs": [],
      "source": [
        "unique_phrases = []\n",
        "\n",
        "for phrase in phrases:\n",
        "    if phrase not in unique_phrases:\n",
        "        unique_phrases.append(phrase)\n",
        "\n",
        "print(unique_phrases)"
      ]
    },
    {
      "cell_type": "markdown",
      "metadata": {
        "id": "rHbAUAfFbfzR"
      },
      "source": [
        "### 2) 각 구의 Score 계산\n",
        "\n",
        "앞서 산출한 각 단어별 점수를 합산"
      ]
    },
    {
      "cell_type": "code",
      "execution_count": null,
      "metadata": {
        "id": "R4DP76OsbfzR"
      },
      "outputs": [],
      "source": [
        "vocabs = dict((r[0][0], r[1]) for r in rank)\n",
        "phrase_scores = []\n",
        "keywords = []\n",
        "\n",
        "for phrase in unique_phrases:\n",
        "    phrase_score = 0\n",
        "    for word in phrase.split():\n",
        "        if word in vocabs.keys():\n",
        "            phrase_score+=vocabs[word]\n",
        "\n",
        "    phrase_scores.append((phrase, phrase_score))\n",
        "\n",
        "for phrase_score in phrase_scores[:10]:\n",
        "    print(f\"keyword: {phrase_score[0]}, Score : {phrase_score[1]}\")"
      ]
    },
    {
      "cell_type": "markdown",
      "metadata": {
        "id": "0fw0Je8EbfzU"
      },
      "source": [
        "### 3) 각 구를 Score로 정렬하여 핵심 구 추출"
      ]
    },
    {
      "cell_type": "code",
      "execution_count": null,
      "metadata": {
        "id": "wpdzhcBBbfzV"
      },
      "outputs": [],
      "source": [
        "sorted_phrase_score = sorted(phrase_scores, key=lambda tup: tup[1], reverse=True)\n",
        "sorted_phrase_score[:10]"
      ]
    },
    {
      "cell_type": "markdown",
      "metadata": {
        "id": "kiz-Q64iXOaY"
      },
      "source": [
        "\n",
        "\n",
        "---\n",
        "\n"
      ]
    },
    {
      "cell_type": "markdown",
      "metadata": {
        "id": "GpFwfuGlpFL9"
      },
      "source": [
        "## 실습 4. gensim 활용\n",
        "\n",
        "- summarization.keywords(document, words) : document를 요약하여 words만큼 키워드를 추출"
      ]
    },
    {
      "cell_type": "code",
      "execution_count": null,
      "metadata": {
        "id": "fW7gy7_7ooKb"
      },
      "outputs": [],
      "source": [
        "from gensim.summarization import keywords\n",
        "keywords(doc, words=5).split('\\n')"
      ]
    }
  ],
  "metadata": {
    "colab": {
      "provenance": []
    },
    "kernelspec": {
      "display_name": "base",
      "language": "python",
      "name": "python3"
    },
    "language_info": {
      "codemirror_mode": {
        "name": "ipython",
        "version": 3
      },
      "file_extension": ".py",
      "mimetype": "text/x-python",
      "name": "python",
      "nbconvert_exporter": "python",
      "pygments_lexer": "ipython3",
      "version": "3.9.13"
    },
    "vscode": {
      "interpreter": {
        "hash": "e508c96042fd7b3aa969c1a8875668ac50b0a6c54de6b2bab6d59ac763cd3db2"
      }
    }
  },
  "nbformat": 4,
  "nbformat_minor": 0
}