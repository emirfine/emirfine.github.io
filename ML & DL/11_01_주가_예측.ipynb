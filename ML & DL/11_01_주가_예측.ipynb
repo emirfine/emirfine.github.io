{
  "nbformat": 4,
  "nbformat_minor": 0,
  "metadata": {
    "colab": {
      "provenance": []
    },
    "kernelspec": {
      "name": "python3",
      "display_name": "Python 3"
    },
    "language_info": {
      "name": "python"
    }
  },
  "cells": [
    {
      "cell_type": "code",
      "execution_count": 1,
      "metadata": {
        "colab": {
          "base_uri": "https://localhost:8080/"
        },
        "id": "pkFhusBa9M91",
        "outputId": "4d110a0a-9415-4901-b0bb-90bd5ac8fded"
      },
      "outputs": [
        {
          "output_type": "stream",
          "name": "stdout",
          "text": [
            "Collecting finance-datareader\n",
            "  Downloading finance_datareader-0.9.50-py3-none-any.whl (19 kB)\n",
            "Requirement already satisfied: pandas>=0.19.2 in /usr/local/lib/python3.10/dist-packages (from finance-datareader) (1.5.3)\n",
            "Requirement already satisfied: requests>=2.3.0 in /usr/local/lib/python3.10/dist-packages (from finance-datareader) (2.27.1)\n",
            "Collecting requests-file (from finance-datareader)\n",
            "  Downloading requests_file-1.5.1-py2.py3-none-any.whl (3.7 kB)\n",
            "Requirement already satisfied: lxml in /usr/local/lib/python3.10/dist-packages (from finance-datareader) (4.9.3)\n",
            "Requirement already satisfied: tqdm in /usr/local/lib/python3.10/dist-packages (from finance-datareader) (4.65.0)\n",
            "Requirement already satisfied: python-dateutil>=2.8.1 in /usr/local/lib/python3.10/dist-packages (from pandas>=0.19.2->finance-datareader) (2.8.2)\n",
            "Requirement already satisfied: pytz>=2020.1 in /usr/local/lib/python3.10/dist-packages (from pandas>=0.19.2->finance-datareader) (2022.7.1)\n",
            "Requirement already satisfied: numpy>=1.21.0 in /usr/local/lib/python3.10/dist-packages (from pandas>=0.19.2->finance-datareader) (1.22.4)\n",
            "Requirement already satisfied: urllib3<1.27,>=1.21.1 in /usr/local/lib/python3.10/dist-packages (from requests>=2.3.0->finance-datareader) (1.26.16)\n",
            "Requirement already satisfied: certifi>=2017.4.17 in /usr/local/lib/python3.10/dist-packages (from requests>=2.3.0->finance-datareader) (2023.5.7)\n",
            "Requirement already satisfied: charset-normalizer~=2.0.0 in /usr/local/lib/python3.10/dist-packages (from requests>=2.3.0->finance-datareader) (2.0.12)\n",
            "Requirement already satisfied: idna<4,>=2.5 in /usr/local/lib/python3.10/dist-packages (from requests>=2.3.0->finance-datareader) (3.4)\n",
            "Requirement already satisfied: six in /usr/local/lib/python3.10/dist-packages (from requests-file->finance-datareader) (1.16.0)\n",
            "Installing collected packages: requests-file, finance-datareader\n",
            "Successfully installed finance-datareader-0.9.50 requests-file-1.5.1\n"
          ]
        }
      ],
      "source": [
        "%pip install -U finance-datareader"
      ]
    },
    {
      "cell_type": "code",
      "source": [
        "import FinanceDataReader as fdr\n",
        "\n",
        "fdr.StockListing('krx')\n",
        "df = fdr.DataReader('005930', '2017-01-01', '2020-12-31')"
      ],
      "metadata": {
        "id": "mX2DZJbT9WiE"
      },
      "execution_count": 4,
      "outputs": []
    },
    {
      "cell_type": "code",
      "source": [
        "# 데이터 정규화\n",
        "\n",
        "raw_data = (df['Close'] - df['Close'].mean()) / df['Close'].std()"
      ],
      "metadata": {
        "id": "2VDZBGd6EIXw"
      },
      "execution_count": 35,
      "outputs": []
    },
    {
      "cell_type": "code",
      "source": [
        "raw_data"
      ],
      "metadata": {
        "id": "8J34YGtmEWU2"
      },
      "execution_count": null,
      "outputs": []
    },
    {
      "cell_type": "code",
      "source": [
        "X = raw_data.to_numpy()"
      ],
      "metadata": {
        "id": "8mDsSZMH9fZ7"
      },
      "execution_count": 37,
      "outputs": []
    },
    {
      "cell_type": "code",
      "source": [
        "import numpy as np"
      ],
      "metadata": {
        "id": "BaJ-afWFA9Th"
      },
      "execution_count": 38,
      "outputs": []
    },
    {
      "cell_type": "code",
      "source": [],
      "metadata": {
        "id": "TNtSLTT_EFLL"
      },
      "execution_count": 38,
      "outputs": []
    },
    {
      "cell_type": "code",
      "source": [
        "# 주가 예측\n",
        "\n",
        "# 1. 데이터 가공 (input sequence 길이를 얼마로 잡을것인가? - 5일, 7일, 15일, 30일)\n",
        "X_data = np.array([[X[i+j] for j in range(5)] for i in range(len(X) - 6)]) # 5일씩 잘라서 입력으로 사용\n",
        "y_data = np.array([X[i+5] for i in range(len(X) - 6)]) # 5일 뒤 값을 y (target으로 잡음)\n",
        "\n",
        "train_idx = int(len(X_data) * 0.7) # 70% 데이터까지의 인덱스\n",
        "\n",
        "X_train = X_data[:train_idx]\n",
        "y_train = y_data[:train_idx]\n",
        "X_test = X_data[train_idx:]\n",
        "y_test = y_data[train_idx:]\n",
        "\n",
        "print(X_train.shape, X_test.shape)\n",
        "print(y_train.shape, y_test.shape)\n",
        "\n",
        "# 데이터셋, 데이터로더 정의\n",
        "\n",
        "# 2. 모델링 (어떤 모델을 사용할 것인가?)\n",
        "\n",
        "\n",
        "\n",
        "# 3. 예측 (시각화)\n"
      ],
      "metadata": {
        "colab": {
          "base_uri": "https://localhost:8080/"
        },
        "id": "MopVxbyO94jb",
        "outputId": "f10d64c6-90c1-45a8-95ac-6d781667042f"
      },
      "execution_count": 39,
      "outputs": [
        {
          "output_type": "stream",
          "name": "stdout",
          "text": [
            "(682, 5) (293, 5)\n",
            "(682,) (293,)\n"
          ]
        }
      ]
    },
    {
      "cell_type": "code",
      "source": [
        "# 데이터셋, 데이터로더 정의\n",
        "import torch\n",
        "from torch.utils.data import Dataset, DataLoader\n",
        "\n",
        "class CustomDataset(Dataset):\n",
        "    def __init__(self, x, y):\n",
        "        self.x = torch.Tensor(x.reshape(-1, 5, 1))\n",
        "        self.y = torch.Tensor(y)\n",
        "\n",
        "    def __getitem__(self, idx):\n",
        "        return self.x[idx], self.y[idx]\n",
        "\n",
        "    def __len__(self):\n",
        "        return len(self.x)\n",
        "\n",
        "train_dataset = CustomDataset(X_train, y_train)\n",
        "test_dataset = CustomDataset(X_test, y_test)\n",
        "\n",
        "train_loader = DataLoader(train_dataset, batch_size=32, shuffle=False)\n",
        "test_loader = DataLoader(test_dataset, batch_size=32, shuffle=False)\n",
        "\n"
      ],
      "metadata": {
        "id": "JIhIKYBBBSKA"
      },
      "execution_count": 40,
      "outputs": []
    },
    {
      "cell_type": "code",
      "source": [
        "# 2. 모델링\n",
        "\n",
        "import torch.nn as nn\n",
        "\n",
        "class StockLSTM(nn.Module):\n",
        "    def __init__(self):\n",
        "        super(StockLSTM, self).__init__()\n",
        "        self.lstm = nn.LSTM(input_size=1, hidden_size=8, num_layers=1, batch_first=True)\n",
        "        self.fc = nn.Linear(8, 1)\n",
        "        return\n",
        "\n",
        "    def forward(self, x):\n",
        "        output, (hidden, _) = self.lstm(x)\n",
        "        output = self.fc(hidden[-1])\n",
        "\n",
        "        return output\n",
        "\n",
        "model = StockLSTM()\n",
        "device = torch.device('cpu')\n",
        "model.to(device)"
      ],
      "metadata": {
        "colab": {
          "base_uri": "https://localhost:8080/"
        },
        "id": "rHpVqCz3A3hA",
        "outputId": "a14c8d47-7ec9-4299-8d66-ac384f132a40"
      },
      "execution_count": 41,
      "outputs": [
        {
          "output_type": "execute_result",
          "data": {
            "text/plain": [
              "StockLSTM(\n",
              "  (lstm): LSTM(1, 8, batch_first=True)\n",
              "  (fc): Linear(in_features=8, out_features=1, bias=True)\n",
              ")"
            ]
          },
          "metadata": {},
          "execution_count": 41
        }
      ]
    },
    {
      "cell_type": "code",
      "source": [
        "import torch.optim as optim\n",
        "optimizer = optim.Adam(model.parameters(), lr=0.5)\n",
        "criterion = nn.MSELoss()\n"
      ],
      "metadata": {
        "id": "2Mf2wQ17CQpp"
      },
      "execution_count": 42,
      "outputs": []
    },
    {
      "cell_type": "code",
      "source": [
        "for epoch in range(5):\n",
        "    model.train()\n",
        "\n",
        "    for batch_idx, (data, label) in enumerate(train_loader):\n",
        "        optimizer.zero_grad()\n",
        "        output = model(data)\n",
        "\n",
        "        # print(data.shape)\n",
        "\n",
        "        loss = criterion(output, label)\n",
        "        loss.backward()\n",
        "        optimizer.step()"
      ],
      "metadata": {
        "id": "qqiIhCjFCk2D"
      },
      "execution_count": null,
      "outputs": []
    },
    {
      "cell_type": "code",
      "source": [
        "y_pred = torch.Tensor([])\n",
        "y_real = torch.Tensor([])\n",
        "for data, label in test_loader:\n",
        "    with torch.no_grad():\n",
        "        output = model(data)\n",
        "        y_pred = torch.cat([y_pred, output])\n",
        "        y_real = torch.cat([y_real, label])"
      ],
      "metadata": {
        "id": "JLA-D5R6DGAz"
      },
      "execution_count": 44,
      "outputs": []
    },
    {
      "cell_type": "code",
      "source": [
        "import matplotlib.pyplot as plt\n",
        "\n",
        "x_axis = np.arange(0, len(y_pred))\n",
        "\n",
        "plt.figure(figsize=(10, 5))\n",
        "\n",
        "plt.plot(x_axis, y_pred, '-o', c='red')\n",
        "plt.plot(x_axis, y_real, '-o', c='blue')\n",
        "plt.show()"
      ],
      "metadata": {
        "colab": {
          "base_uri": "https://localhost:8080/",
          "height": 445
        },
        "id": "sKQHac13DpNB",
        "outputId": "601a8f6a-6023-4294-de11-4392fb312e53"
      },
      "execution_count": 45,
      "outputs": [
        {
          "output_type": "display_data",
          "data": {
            "text/plain": [
              "<Figure size 1000x500 with 1 Axes>"
            ],
            "image/png": "[encoded data removed]"
          },
          "metadata": {}
        }
      ]
    },
    {
      "cell_type": "code",
      "source": [],
      "metadata": {
        "id": "_Tu23bnOEAer"
      },
      "execution_count": 45,
      "outputs": []
    }
  ]
}