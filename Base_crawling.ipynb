{
 "cells": [
  {
   "cell_type": "code",
   "execution_count": 6,
   "metadata": {},
   "outputs": [
    {
     "name": "stdout",
     "output_type": "stream",
     "text": [
      "1\n",
      "2\n",
      "3\n",
      "4\n",
      "5\n",
      "6\n",
      "7\n",
      "8\n",
      "9\n",
      "10\n",
      "11\n",
      "12\n",
      "13\n",
      "14\n",
      "15\n",
      "16\n",
      "17\n",
      "18\n",
      "19\n",
      "20\n",
      "21\n",
      "22\n",
      "23\n",
      "24\n",
      "25\n",
      "26\n",
      "27\n",
      "28\n",
      "29\n",
      "30\n",
      "31\n",
      "32\n",
      "33\n",
      "34\n",
      "35\n",
      "36\n",
      "37\n",
      "38\n",
      "39\n"
     ]
    }
   ],
   "source": [
    "# 의사록(MPB)\n",
    "\n",
    "import requests, os\n",
    "from bs4 import BeautifulSoup\n",
    "\n",
    "# 각자 파일 경로\n",
    "my_local_pdf_dir_path = 'secret_MPB_minutes'\n",
    "# 디렉토리 생성\n",
    "os.makedirs(f'./{my_local_pdf_dir_path}', exist_ok=True)\n",
    "\n",
    "for i in range(1, 40):\n",
    "    b_url = \"https://www.bok.or.kr/portal/bbs/B0000245/list.do?menuNo=200761\"\n",
    "    params = {\n",
    "        'pageIndex' : i\n",
    "    }\n",
    "\n",
    "    response = requests.get(b_url, params=params)\n",
    "    soup = BeautifulSoup(response.content)\n",
    "\n",
    "    li_list = []\n",
    "    li = soup.find('div', class_='bdLine type2').find('ul').find('li')\n",
    "    li_li = li.find_next_siblings('li', li)\n",
    "    li_list.append(li)\n",
    "    li_list.extend(li_li)\n",
    "\n",
    "    print(i)\n",
    "\n",
    "    for x in range(0, len(li_list)):\n",
    "        try:\n",
    "            link = li_list[x].find('div', class_='fileGoupBox').find('ul').find('li').find('a').attrs['href']\n",
    "            name_ = li_list[x].find('div', class_='fileGoupBox').find('ul').find('li').find('a').getText().strip()\n",
    "            title = li_list[x].find('div', class_='row').find('span').find('a').find('span').find('span').text\n",
    "            url2 = 'http://www.bok.or.kr' + link\n",
    "            file_res = requests.get(url2)\n",
    "            if name_[-4:]=='.hwp':\n",
    "                link = li_list[x].find('div', class_='fileGoupBox').find('ul').find_all('li')[1].find('a').attrs['href']\n",
    "                url2 = 'http://www.bok.or.kr' + link\n",
    "                file_res = requests.get(url2)\n",
    "                with open('./{}/{}.pdf'.format(my_local_pdf_dir_path, title), 'wb') as f:\n",
    "                    f.write(file_res.content)\n",
    "            else:\n",
    "                with open('./{}/{}.pdf'.format(my_local_pdf_dir_path, title), 'wb') as f:\n",
    "                    f.write(file_res.content)\n",
    "\n",
    "        except:\n",
    "            try:\n",
    "                link2 = li_list[x].find('div').find('div').find('a').attrs['href']\n",
    "                name_ = li_list[x].find('div', class_='fileGoupBox').find('ul').find('li').find('a').getText().strip()\n",
    "                title = li_list[x].find('div', class_='row').find('span').find('a').find('span').find('span').text\n",
    "                url3 = 'http://www.bok.or.kr' + link2\n",
    "                file_res2 = requests.get(url3)\n",
    "                if name_[-4:]=='.hwp':\n",
    "                    link2 = li_list[x].find('div').find('div').find_all('a')[1].attrs['href']\n",
    "                    url3 = 'http://www.bok.or.kr' + link2\n",
    "                    with open('./{}/{}.pdf'.format(my_local_pdf_dir_path, title), 'wb') as f:\n",
    "                        f.write(file_res.content)\n",
    "                else:\n",
    "                    with open('./{}/{}.pdf'.format(my_local_pdf_dir_path, title), 'wb') as f:\n",
    "                        f.write(file_res.content)\n",
    "            except:\n",
    "                break"
   ]
  },
  {
   "cell_type": "code",
   "execution_count": 8,
   "metadata": {},
   "outputs": [
    {
     "data": {
      "application/vnd.jupyter.widget-view+json": {
       "model_id": "9b9ae1dbf4dc435c8be40997aaa42cb5",
       "version_major": 2,
       "version_minor": 0
      },
      "text/plain": [
       "  0%|          | 0/39 [00:00<?, ?it/s]"
      ]
     },
     "metadata": {},
     "output_type": "display_data"
    },
    {
     "ename": "KeyError",
     "evalue": "'page'",
     "output_type": "error",
     "traceback": [
      "\u001b[1;31m---------------------------------------------------------------------------\u001b[0m",
      "\u001b[1;31mKeyError\u001b[0m                                  Traceback (most recent call last)",
      "Cell \u001b[1;32mIn[8], line 15\u001b[0m\n\u001b[0;32m     12\u001b[0m b_url \u001b[39m=\u001b[39m \u001b[39m\"\u001b[39m\u001b[39mhttp://www.bok.or.kr/portal/bbs/B0000245/list.do?menuNo=200761&pageIndex=\u001b[39m\u001b[39m{page}\u001b[39;00m\u001b[39m\"\u001b[39m\n\u001b[0;32m     14\u001b[0m \u001b[39mfor\u001b[39;00m i \u001b[39min\u001b[39;00m tqdm(\u001b[39mrange\u001b[39m(\u001b[39m1\u001b[39m, \u001b[39m40\u001b[39m)):\n\u001b[1;32m---> 15\u001b[0m     response \u001b[39m=\u001b[39m requests\u001b[39m.\u001b[39mget(b_url\u001b[39m.\u001b[39;49mformat(i))\n\u001b[0;32m     16\u001b[0m     soup \u001b[39m=\u001b[39m BeautifulSoup(response\u001b[39m.\u001b[39mcontent)\n\u001b[0;32m     18\u001b[0m     \u001b[39m# file_name_list: 고유한 파일명을 위한 파일명 리스트 추출\u001b[39;00m\n",
      "\u001b[1;31mKeyError\u001b[0m: 'page'"
     ]
    }
   ],
   "source": [
    "# MPB minutes pdf download code\n",
    "import requests, urllib, os\n",
    "from bs4 import BeautifulSoup\n",
    "from tqdm.notebook import tqdm\n",
    "\n",
    "\n",
    "# 각자 파일 경로\n",
    "my_local_pdf_dir_path = 'secret_MPB_minutes'\n",
    "# 디렉토리 생성\n",
    "os.makedirs(f'./{my_local_pdf_dir_path}', exist_ok=True)\n",
    "# b_url: base url, {page}: page number\n",
    "b_url = \"http://www.bok.or.kr/portal/bbs/B0000245/list.do?menuNo=200761&pageIndex={page}\"\n",
    "\n",
    "for i in tqdm(range(1, 40)):\n",
    "    response = requests.get(b_url.format(i))\n",
    "    soup = BeautifulSoup(response.content)\n",
    "\n",
    "    # file_name_list: 고유한 파일명을 위한 파일명 리스트 추출\n",
    "    file_name_list = soup.find_all('span', class_='col m10 s10 x9 ctBx')\n",
    "    # tmp: 크롤링할 파일 url 목록 추출\n",
    "    tmp = soup.find_all('div', class_='fileGoupBox')\n",
    "    \n",
    "    # 2개의 리스트를 이용하기에 range 사용\n",
    "    for j in range(len(tmp)):\n",
    "        # 현재 file의 파일명 할당\n",
    "        file_name = file_name_list[j].find('span', class_='titlesub').getText().strip()\n",
    "        # 현재 file 위해 사용할 태그\n",
    "        for_download = tmp[j]\n",
    "        # naem_: 파일 확장자 확인 위한 변수\n",
    "        name_ = for_download.find('li').find('a').getText().strip()\n",
    "        if name_[-4:]=='.hwp':\n",
    "            url = ('http://www.bok.or.kr/'+for_download.find_all('li')[1].find('a')['href'])\n",
    "            with urllib.request.urlopen(url) as web_file, open(f'./{my_local_pdf_dir_path}/{file_name}.pdf', 'wb') as local_file:\n",
    "                local_file.write(web_file.read())\n",
    "        else:\n",
    "            url = ('http://www.bok.or.kr/'+for_download.find('li').find('a')['href'])\n",
    "            with urllib.request.urlopen(url) as web_file, open(f'./{my_local_pdf_dir_path}/{file_name}.pdf', 'wb') as local_file:\n",
    "                local_file.write(web_file.read())"
   ]
  },
  {
   "cell_type": "code",
   "execution_count": 9,
   "metadata": {},
   "outputs": [
    {
     "name": "stdout",
     "output_type": "stream",
     "text": [
      "통과\n",
      "통과\n"
     ]
    }
   ],
   "source": [
    "# 채권 분석 리포트 https://finance.naver.com/research/debenture_list.naver\n",
    "import time\n",
    "from datetime import datetime\n",
    "import requests\n",
    "from bs4 import BeautifulSoup\n",
    "\n",
    "for i in range (1, 198):\n",
    "    bond_url = \"https://finance.naver.com/research/debenture_list.naver\"\n",
    "    params = {\n",
    "        'page' : i\n",
    "    }\n",
    "    headers = {'authority' : 'finance.naver.com',\n",
    "            'User-Agent': 'Mozilla/5.0 (Windows NT 10.0; Win64; x64) AppleWebKit/537.36 (KHTML, like Gecko) Chrome/114.0.0.0 Safari/537.36' }\n",
    "   \n",
    "\n",
    "    response = requests.get(bond_url, params=params, headers=headers)\n",
    "    soup = BeautifulSoup(response.content)\n",
    "    bond = soup.select('#contentarea_left .file')\n",
    "    bond_list = []\n",
    "    for x in range(len(bond)):\n",
    "        if bond[x].find_previous_sibling('td').text == '유안타증권':\n",
    "            try:    \n",
    "                bond_list.append([soup.select(\"#contentarea_left .file a[href$='.pdf']\")[x].attrs['href'], bond[x].find_previous_sibling('td').find_previous_sibling('td').text])\n",
    "            except:\n",
    "                print(\"통과\")\n",
    "\n",
    "    for y in bond_list:\n",
    "        file_res = requests.get(y[0])\n",
    "        title = y[-1]\n",
    "        try:\n",
    "            with open('{}.pdf'.format(title), 'wb') as f:\n",
    "                f.write(file_res.content)\n",
    "        except:\n",
    "            print('통과')\n",
    "\n",
    "\n",
    "    \n",
    "            "
   ]
  },
  {
   "cell_type": "markdown",
   "metadata": {},
   "source": [
    "1. 월별 기사수 '금리'라는 단어 포함\n",
    "2. 각 신문사별 기사수\n",
    "3. 채권분석데이터수"
   ]
  },
  {
   "cell_type": "code",
   "execution_count": 6,
   "metadata": {},
   "outputs": [
    {
     "name": "stderr",
     "output_type": "stream",
     "text": [
      "  0%|          | 0/130 [00:00<?, ?it/s]"
     ]
    },
    {
     "name": "stdout",
     "output_type": "stream",
     "text": [
      "43\n"
     ]
    },
    {
     "name": "stderr",
     "output_type": "stream",
     "text": [
      "100%|██████████| 43/43 [03:28<00:00,  4.85s/it]\n",
      "  1%|          | 1/130 [03:29<7:29:35, 209.11s/it]"
     ]
    },
    {
     "name": "stdout",
     "output_type": "stream",
     "text": [
      "79\n"
     ]
    },
    {
     "name": "stderr",
     "output_type": "stream",
     "text": [
      "100%|██████████| 79/79 [05:09<00:00,  3.92s/it]\n",
      "  2%|▏         | 2/130 [08:39<9:33:20, 268.75s/it]"
     ]
    },
    {
     "name": "stdout",
     "output_type": "stream",
     "text": [
      "51\n"
     ]
    },
    {
     "name": "stderr",
     "output_type": "stream",
     "text": [
      "100%|██████████| 51/51 [03:33<00:00,  4.19s/it]\n",
      "  2%|▏         | 3/130 [12:13<8:36:13, 243.88s/it]"
     ]
    },
    {
     "name": "stdout",
     "output_type": "stream",
     "text": [
      "44\n"
     ]
    },
    {
     "name": "stderr",
     "output_type": "stream",
     "text": [
      "100%|██████████| 44/44 [03:45<00:00,  5.12s/it]\n",
      "  3%|▎         | 4/130 [15:59<8:17:15, 236.79s/it]"
     ]
    },
    {
     "name": "stdout",
     "output_type": "stream",
     "text": [
      "59\n"
     ]
    },
    {
     "name": "stderr",
     "output_type": "stream",
     "text": []
    },
    {
     "name": "stdout",
     "output_type": "stream",
     "text": [
      "https://finance.naver.com/news/news_read.naver?article_id=0002883361&office_id=009&mode=search&query=금리&page=44\n"
     ]
    },
    {
     "name": "stderr",
     "output_type": "stream",
     "text": [
      "100%|██████████| 59/59 [04:08<00:00,  4.21s/it]\n",
      "  4%|▍         | 5/130 [20:08<8:22:25, 241.16s/it]"
     ]
    },
    {
     "name": "stdout",
     "output_type": "stream",
     "text": [
      "56\n"
     ]
    },
    {
     "name": "stderr",
     "output_type": "stream",
     "text": [
      "100%|██████████| 56/56 [03:47<00:00,  4.07s/it]\n",
      "  5%|▍         | 6/130 [23:57<8:09:29, 236.85s/it]"
     ]
    },
    {
     "name": "stdout",
     "output_type": "stream",
     "text": [
      "62\n"
     ]
    },
    {
     "name": "stderr",
     "output_type": "stream",
     "text": [
      "100%|██████████| 62/62 [03:50<00:00,  3.71s/it]\n",
      "  5%|▌         | 7/130 [27:47<8:01:28, 234.87s/it]"
     ]
    },
    {
     "name": "stdout",
     "output_type": "stream",
     "text": [
      "53\n"
     ]
    },
    {
     "name": "stderr",
     "output_type": "stream",
     "text": []
    },
    {
     "name": "stdout",
     "output_type": "stream",
     "text": [
      "https://finance.naver.com/news/news_read.naver?article_id=0002898209&office_id=009&mode=search&query=금리&page=11\n"
     ]
    },
    {
     "name": "stderr",
     "output_type": "stream",
     "text": []
    },
    {
     "name": "stdout",
     "output_type": "stream",
     "text": [
      "https://finance.naver.com/news/news_read.naver?article_id=0006107326&office_id=001&mode=search&query=금리&page=14\n"
     ]
    },
    {
     "name": "stderr",
     "output_type": "stream",
     "text": []
    },
    {
     "name": "stdout",
     "output_type": "stream",
     "text": [
      "https://finance.naver.com/news/news_read.naver?article_id=0002897527&office_id=009&mode=search&query=금리&page=21\n"
     ]
    },
    {
     "name": "stderr",
     "output_type": "stream",
     "text": []
    },
    {
     "name": "stdout",
     "output_type": "stream",
     "text": [
      "https://finance.naver.com/news/news_read.naver?article_id=0002306274&office_id=011&mode=search&query=금리&page=23\n"
     ]
    },
    {
     "name": "stderr",
     "output_type": "stream",
     "text": []
    },
    {
     "name": "stdout",
     "output_type": "stream",
     "text": [
      "https://finance.naver.com/news/news_read.naver?article_id=0002733647&office_id=018&mode=search&query=금리&page=26\n"
     ]
    },
    {
     "name": "stderr",
     "output_type": "stream",
     "text": []
    },
    {
     "name": "stdout",
     "output_type": "stream",
     "text": [
      "https://finance.naver.com/news/news_read.naver?article_id=0002999112&office_id=008&mode=search&query=금리&page=27\n",
      "https://finance.naver.com/news/news_read.naver?article_id=0002999104&office_id=008&mode=search&query=금리&page=28\n"
     ]
    },
    {
     "name": "stderr",
     "output_type": "stream",
     "text": []
    },
    {
     "name": "stdout",
     "output_type": "stream",
     "text": [
      "https://finance.naver.com/news/news_read.naver?article_id=0006103681&office_id=001&mode=search&query=금리&page=29\n",
      "https://finance.naver.com/news/news_read.naver?article_id=0002733335&office_id=018&mode=search&query=금리&page=29\n"
     ]
    },
    {
     "name": "stderr",
     "output_type": "stream",
     "text": [
      "100%|██████████| 53/53 [04:24<00:00,  5.00s/it]\n",
      "  6%|▌         | 8/130 [32:13<8:17:15, 244.56s/it]"
     ]
    },
    {
     "name": "stdout",
     "output_type": "stream",
     "text": [
      "49\n"
     ]
    },
    {
     "name": "stderr",
     "output_type": "stream",
     "text": []
    },
    {
     "name": "stdout",
     "output_type": "stream",
     "text": [
      "https://finance.naver.com/news/news_read.naver?article_id=0002837523&office_id=015&mode=search&query=금리&page=40\n"
     ]
    },
    {
     "name": "stderr",
     "output_type": "stream",
     "text": [
      "100%|██████████| 49/49 [03:32<00:00,  4.34s/it]\n",
      "  7%|▋         | 9/130 [35:46<7:53:18, 234.70s/it]"
     ]
    },
    {
     "name": "stdout",
     "output_type": "stream",
     "text": [
      "73\n"
     ]
    },
    {
     "name": "stderr",
     "output_type": "stream",
     "text": [
      "100%|██████████| 73/73 [05:12<00:00,  4.28s/it]\n",
      "  8%|▊         | 10/130 [40:59<8:37:41, 258.84s/it]"
     ]
    },
    {
     "name": "stdout",
     "output_type": "stream",
     "text": [
      "78\n"
     ]
    },
    {
     "name": "stderr",
     "output_type": "stream",
     "text": []
    },
    {
     "name": "stdout",
     "output_type": "stream",
     "text": [
      "https://finance.naver.com/news/news_read.naver?article_id=0002845254&office_id=015&mode=search&query=금리&page=62\n"
     ]
    },
    {
     "name": "stderr",
     "output_type": "stream",
     "text": [
      "100%|██████████| 78/78 [05:16<00:00,  4.06s/it]\n",
      "  8%|▊         | 11/130 [46:16<9:08:44, 276.67s/it]"
     ]
    },
    {
     "name": "stdout",
     "output_type": "stream",
     "text": [
      "59\n"
     ]
    },
    {
     "name": "stderr",
     "output_type": "stream",
     "text": []
    },
    {
     "name": "stdout",
     "output_type": "stream",
     "text": [
      "https://finance.naver.com/news/news_read.naver?article_id=0000212135&office_id=421&mode=search&query=금리&page=35\n"
     ]
    },
    {
     "name": "stderr",
     "output_type": "stream",
     "text": [
      "100%|██████████| 59/59 [04:56<00:00,  5.02s/it]\n",
      "  9%|▉         | 12/130 [51:13<9:16:05, 282.76s/it]"
     ]
    },
    {
     "name": "stdout",
     "output_type": "stream",
     "text": [
      "59\n"
     ]
    },
    {
     "name": "stderr",
     "output_type": "stream",
     "text": [
      "100%|██████████| 59/59 [04:40<00:00,  4.75s/it]\n",
      " 10%|█         | 13/130 [55:53<9:10:15, 282.18s/it]"
     ]
    },
    {
     "name": "stdout",
     "output_type": "stream",
     "text": [
      "76\n"
     ]
    },
    {
     "name": "stderr",
     "output_type": "stream",
     "text": [
      "100%|██████████| 76/76 [05:46<00:00,  4.57s/it]\n",
      " 11%|█         | 14/130 [1:01:41<9:43:40, 301.90s/it]"
     ]
    },
    {
     "name": "stdout",
     "output_type": "stream",
     "text": [
      "95\n"
     ]
    },
    {
     "name": "stderr",
     "output_type": "stream",
     "text": [
      "100%|██████████| 95/95 [06:20<00:00,  4.01s/it]\n",
      " 12%|█▏        | 15/130 [1:08:02<10:24:33, 325.86s/it]"
     ]
    },
    {
     "name": "stdout",
     "output_type": "stream",
     "text": [
      "52\n"
     ]
    },
    {
     "name": "stderr",
     "output_type": "stream",
     "text": [
      "100%|██████████| 52/52 [04:10<00:00,  4.81s/it]\n",
      " 12%|█▏        | 16/130 [1:12:13<9:36:06, 303.21s/it] "
     ]
    },
    {
     "name": "stdout",
     "output_type": "stream",
     "text": [
      "63\n"
     ]
    },
    {
     "name": "stderr",
     "output_type": "stream",
     "text": [
      "100%|██████████| 63/63 [04:31<00:00,  4.31s/it]\n",
      " 13%|█▎        | 17/130 [1:16:45<9:13:29, 293.89s/it]"
     ]
    },
    {
     "name": "stdout",
     "output_type": "stream",
     "text": [
      "73\n"
     ]
    },
    {
     "name": "stderr",
     "output_type": "stream",
     "text": [
      "100%|██████████| 73/73 [04:16<00:00,  3.52s/it]\n",
      " 14%|█▍        | 18/130 [1:21:02<8:48:03, 282.88s/it]"
     ]
    },
    {
     "name": "stdout",
     "output_type": "stream",
     "text": [
      "123\n"
     ]
    },
    {
     "name": "stderr",
     "output_type": "stream",
     "text": []
    },
    {
     "name": "stdout",
     "output_type": "stream",
     "text": [
      "https://finance.naver.com/news/news_read.naver?article_id=0002025854&office_id=123&mode=search&query=금리&page=16\n"
     ]
    },
    {
     "name": "stderr",
     "output_type": "stream",
     "text": [
      "100%|██████████| 123/123 [07:38<00:00,  3.73s/it]\n",
      " 15%|█▍        | 19/130 [1:28:41<10:21:07, 335.74s/it]"
     ]
    },
    {
     "name": "stdout",
     "output_type": "stream",
     "text": [
      "68\n"
     ]
    },
    {
     "name": "stderr",
     "output_type": "stream",
     "text": []
    },
    {
     "name": "stdout",
     "output_type": "stream",
     "text": [
      "https://finance.naver.com/news/news_read.naver?article_id=0002954334&office_id=009&mode=search&query=금리&page=31\n"
     ]
    },
    {
     "name": "stderr",
     "output_type": "stream",
     "text": [
      "100%|██████████| 68/68 [05:15<00:00,  4.64s/it]\n",
      " 15%|█▌        | 20/130 [1:33:58<10:04:50, 329.91s/it]"
     ]
    },
    {
     "name": "stdout",
     "output_type": "stream",
     "text": [
      "75\n"
     ]
    },
    {
     "name": "stderr",
     "output_type": "stream",
     "text": []
    },
    {
     "name": "stdout",
     "output_type": "stream",
     "text": [
      "https://finance.naver.com/news/news_read.naver?article_id=0002960689&office_id=009&mode=search&query=금리&page=17\n"
     ]
    },
    {
     "name": "stderr",
     "output_type": "stream",
     "text": []
    },
    {
     "name": "stdout",
     "output_type": "stream",
     "text": [
      "https://finance.naver.com/news/news_read.naver?article_id=0002957959&office_id=009&mode=search&query=금리&page=59\n"
     ]
    },
    {
     "name": "stderr",
     "output_type": "stream",
     "text": [
      "100%|██████████| 75/75 [05:28<00:00,  4.37s/it]\n",
      " 16%|█▌        | 21/130 [1:39:26<9:58:36, 329.51s/it] "
     ]
    },
    {
     "name": "stdout",
     "output_type": "stream",
     "text": [
      "70\n"
     ]
    },
    {
     "name": "stderr",
     "output_type": "stream",
     "text": [
      "100%|██████████| 70/70 [04:44<00:00,  4.07s/it]\n",
      " 17%|█▋        | 22/130 [1:44:11<9:29:12, 316.22s/it]"
     ]
    },
    {
     "name": "stdout",
     "output_type": "stream",
     "text": [
      "63\n"
     ]
    },
    {
     "name": "stderr",
     "output_type": "stream",
     "text": [
      "100%|██████████| 63/63 [03:57<00:00,  3.77s/it]\n",
      " 18%|█▊        | 23/130 [1:48:10<8:42:12, 292.83s/it]"
     ]
    },
    {
     "name": "stdout",
     "output_type": "stream",
     "text": [
      "80\n"
     ]
    },
    {
     "name": "stderr",
     "output_type": "stream",
     "text": [
      "100%|██████████| 80/80 [05:18<00:00,  3.98s/it]\n",
      " 18%|█▊        | 24/130 [1:53:29<8:51:19, 300.75s/it]"
     ]
    },
    {
     "name": "stdout",
     "output_type": "stream",
     "text": [
      "93\n"
     ]
    },
    {
     "name": "stderr",
     "output_type": "stream",
     "text": []
    },
    {
     "name": "stdout",
     "output_type": "stream",
     "text": [
      "https://finance.naver.com/news/news_read.naver?article_id=0002906388&office_id=014&mode=search&query=금리&page=62\n"
     ]
    },
    {
     "name": "stderr",
     "output_type": "stream",
     "text": [
      "100%|██████████| 93/93 [06:47<00:00,  4.38s/it]\n",
      " 19%|█▉        | 25/130 [2:00:17<9:42:39, 332.94s/it]"
     ]
    },
    {
     "name": "stdout",
     "output_type": "stream",
     "text": [
      "94\n"
     ]
    },
    {
     "name": "stderr",
     "output_type": "stream",
     "text": [
      "100%|██████████| 94/94 [06:43<00:00,  4.29s/it]\n",
      " 20%|██        | 26/130 [2:07:00<10:13:51, 354.14s/it]"
     ]
    },
    {
     "name": "stdout",
     "output_type": "stream",
     "text": [
      "78\n"
     ]
    },
    {
     "name": "stderr",
     "output_type": "stream",
     "text": []
    },
    {
     "name": "stdout",
     "output_type": "stream",
     "text": [
      "https://finance.naver.com/news/news_read.naver?article_id=0002905228&office_id=015&mode=search&query=금리&page=74\n"
     ]
    },
    {
     "name": "stderr",
     "output_type": "stream",
     "text": [
      "100%|██████████| 78/78 [05:23<00:00,  4.15s/it]\n",
      " 21%|██        | 27/130 [2:12:24<9:52:24, 345.09s/it] "
     ]
    },
    {
     "name": "stdout",
     "output_type": "stream",
     "text": [
      "82\n"
     ]
    },
    {
     "name": "stderr",
     "output_type": "stream",
     "text": []
    },
    {
     "name": "stdout",
     "output_type": "stream",
     "text": [
      "https://finance.naver.com/news/news_read.naver?article_id=0000567494&office_id=005&mode=search&query=금리&page=40\n"
     ]
    },
    {
     "name": "stderr",
     "output_type": "stream",
     "text": [
      "100%|██████████| 82/82 [05:18<00:00,  3.88s/it]\n",
      " 22%|██▏       | 28/130 [2:17:43<9:33:20, 337.26s/it]"
     ]
    },
    {
     "name": "stdout",
     "output_type": "stream",
     "text": [
      "63\n"
     ]
    },
    {
     "name": "stderr",
     "output_type": "stream",
     "text": []
    },
    {
     "name": "stdout",
     "output_type": "stream",
     "text": [
      "https://finance.naver.com/news/news_read.naver?article_id=0002998187&office_id=009&mode=search&query=금리&page=17\n"
     ]
    },
    {
     "name": "stderr",
     "output_type": "stream",
     "text": [
      "100%|██████████| 63/63 [04:53<00:00,  4.65s/it]\n",
      " 22%|██▏       | 29/130 [2:22:37<9:05:43, 324.19s/it]"
     ]
    },
    {
     "name": "stdout",
     "output_type": "stream",
     "text": [
      "69\n"
     ]
    },
    {
     "name": "stderr",
     "output_type": "stream",
     "text": [
      "100%|██████████| 69/69 [05:08<00:00,  4.47s/it]\n",
      " 23%|██▎       | 30/130 [2:27:46<8:52:41, 319.62s/it]"
     ]
    },
    {
     "name": "stdout",
     "output_type": "stream",
     "text": [
      "57\n"
     ]
    },
    {
     "name": "stderr",
     "output_type": "stream",
     "text": [
      "100%|██████████| 57/57 [03:29<00:00,  3.68s/it]\n",
      " 24%|██▍       | 31/130 [2:31:17<7:53:19, 286.86s/it]"
     ]
    },
    {
     "name": "stdout",
     "output_type": "stream",
     "text": [
      "58\n"
     ]
    },
    {
     "name": "stderr",
     "output_type": "stream",
     "text": []
    },
    {
     "name": "stdout",
     "output_type": "stream",
     "text": [
      "https://finance.naver.com/news/news_read.naver?article_id=0002925820&office_id=015&mode=search&query=금리&page=44\n"
     ]
    },
    {
     "name": "stderr",
     "output_type": "stream",
     "text": [
      "100%|██████████| 58/58 [04:02<00:00,  4.17s/it]\n",
      " 25%|██▍       | 32/130 [2:35:19<7:26:49, 273.57s/it]"
     ]
    },
    {
     "name": "stdout",
     "output_type": "stream",
     "text": [
      "46\n"
     ]
    },
    {
     "name": "stderr",
     "output_type": "stream",
     "text": []
    },
    {
     "name": "stdout",
     "output_type": "stream",
     "text": [
      "https://finance.naver.com/news/news_read.naver?article_id=0003016405&office_id=009&mode=search&query=금리&page=13\n"
     ]
    },
    {
     "name": "stderr",
     "output_type": "stream",
     "text": [
      "100%|██████████| 46/46 [03:27<00:00,  4.51s/it]\n",
      " 25%|██▌       | 33/130 [2:38:47<6:50:24, 253.86s/it]"
     ]
    },
    {
     "name": "stdout",
     "output_type": "stream",
     "text": [
      "75\n"
     ]
    },
    {
     "name": "stderr",
     "output_type": "stream",
     "text": [
      "100%|██████████| 75/75 [04:45<00:00,  3.80s/it]\n",
      " 26%|██▌       | 34/130 [2:43:33<7:01:27, 263.41s/it]"
     ]
    },
    {
     "name": "stdout",
     "output_type": "stream",
     "text": [
      "76\n"
     ]
    },
    {
     "name": "stderr",
     "output_type": "stream",
     "text": [
      "100%|██████████| 76/76 [06:13<00:00,  4.91s/it]\n",
      " 27%|██▋       | 35/130 [2:49:46<7:49:29, 296.52s/it]"
     ]
    },
    {
     "name": "stdout",
     "output_type": "stream",
     "text": [
      "65\n"
     ]
    },
    {
     "name": "stderr",
     "output_type": "stream",
     "text": [
      "100%|██████████| 65/65 [04:57<00:00,  4.58s/it]\n",
      " 28%|██▊       | 36/130 [2:54:45<7:45:20, 297.03s/it]"
     ]
    },
    {
     "name": "stdout",
     "output_type": "stream",
     "text": [
      "76\n"
     ]
    },
    {
     "name": "stderr",
     "output_type": "stream",
     "text": []
    },
    {
     "name": "stdout",
     "output_type": "stream",
     "text": [
      "https://finance.naver.com/news/news_read.naver?article_id=0001988279&office_id=119&mode=search&query=금리&page=16\n"
     ]
    },
    {
     "name": "stderr",
     "output_type": "stream",
     "text": [
      "100%|██████████| 76/76 [05:55<00:00,  4.68s/it]\n",
      " 28%|██▊       | 37/130 [3:00:41<8:07:47, 314.70s/it]"
     ]
    },
    {
     "name": "stdout",
     "output_type": "stream",
     "text": [
      "37\n"
     ]
    },
    {
     "name": "stderr",
     "output_type": "stream",
     "text": [
      "100%|██████████| 37/37 [02:19<00:00,  3.77s/it]\n",
      " 29%|██▉       | 38/130 [3:03:00<6:42:06, 262.24s/it]"
     ]
    },
    {
     "name": "stdout",
     "output_type": "stream",
     "text": [
      "59\n"
     ]
    },
    {
     "name": "stderr",
     "output_type": "stream",
     "text": []
    },
    {
     "name": "stdout",
     "output_type": "stream",
     "text": [
      "https://finance.naver.com/news/news_read.naver?article_id=0002034745&office_id=047&mode=search&query=금리&page=54\n"
     ]
    },
    {
     "name": "stderr",
     "output_type": "stream",
     "text": [
      "100%|██████████| 59/59 [04:40<00:00,  4.76s/it]\n",
      " 30%|███       | 39/130 [3:07:42<6:46:23, 267.95s/it]"
     ]
    },
    {
     "name": "stdout",
     "output_type": "stream",
     "text": [
      "53\n"
     ]
    },
    {
     "name": "stderr",
     "output_type": "stream",
     "text": [
      "100%|██████████| 53/53 [03:55<00:00,  4.45s/it]\n",
      " 31%|███       | 40/130 [3:11:38<6:27:45, 258.50s/it]"
     ]
    },
    {
     "name": "stdout",
     "output_type": "stream",
     "text": [
      "54\n"
     ]
    },
    {
     "name": "stderr",
     "output_type": "stream",
     "text": [
      "100%|██████████| 54/54 [04:05<00:00,  4.54s/it]\n",
      " 32%|███▏      | 41/130 [3:15:44<6:17:48, 254.70s/it]"
     ]
    },
    {
     "name": "stdout",
     "output_type": "stream",
     "text": [
      "46\n"
     ]
    },
    {
     "name": "stderr",
     "output_type": "stream",
     "text": []
    },
    {
     "name": "stdout",
     "output_type": "stream",
     "text": [
      "https://finance.naver.com/news/news_read.naver?article_id=0002860186&office_id=018&mode=search&query=금리&page=43\n"
     ]
    },
    {
     "name": "stderr",
     "output_type": "stream",
     "text": [
      "100%|██████████| 46/46 [03:36<00:00,  4.71s/it]\n",
      " 32%|███▏      | 42/130 [3:19:21<5:56:57, 243.38s/it]"
     ]
    },
    {
     "name": "stdout",
     "output_type": "stream",
     "text": [
      "49\n"
     ]
    },
    {
     "name": "stderr",
     "output_type": "stream",
     "text": [
      "100%|██████████| 49/49 [03:26<00:00,  4.21s/it]\n",
      " 33%|███▎      | 43/130 [3:22:48<5:36:55, 232.37s/it]"
     ]
    },
    {
     "name": "stdout",
     "output_type": "stream",
     "text": [
      "60\n"
     ]
    },
    {
     "name": "stderr",
     "output_type": "stream",
     "text": [
      "100%|██████████| 60/60 [04:35<00:00,  4.59s/it]\n",
      " 34%|███▍      | 44/130 [3:27:24<5:51:51, 245.48s/it]"
     ]
    },
    {
     "name": "stdout",
     "output_type": "stream",
     "text": [
      "57\n"
     ]
    },
    {
     "name": "stderr",
     "output_type": "stream",
     "text": []
    },
    {
     "name": "stdout",
     "output_type": "stream",
     "text": [
      "https://finance.naver.com/news/news_read.naver?article_id=0003145380&office_id=008&mode=search&query=금리&page=30\n"
     ]
    },
    {
     "name": "stderr",
     "output_type": "stream",
     "text": [
      "100%|██████████| 57/57 [03:49<00:00,  4.03s/it]\n",
      " 35%|███▍      | 45/130 [3:31:14<5:41:16, 240.90s/it]"
     ]
    },
    {
     "name": "stdout",
     "output_type": "stream",
     "text": [
      "62\n"
     ]
    },
    {
     "name": "stderr",
     "output_type": "stream",
     "text": []
    },
    {
     "name": "stdout",
     "output_type": "stream",
     "text": [
      "https://finance.naver.com/news/news_read.naver?article_id=0000158445&office_id=366&mode=search&query=금리&page=29\n"
     ]
    },
    {
     "name": "stderr",
     "output_type": "stream",
     "text": [
      "100%|██████████| 62/62 [04:04<00:00,  3.95s/it]\n",
      " 35%|███▌      | 46/130 [3:35:19<5:39:06, 242.22s/it]"
     ]
    },
    {
     "name": "stdout",
     "output_type": "stream",
     "text": [
      "59\n"
     ]
    },
    {
     "name": "stderr",
     "output_type": "stream",
     "text": []
    },
    {
     "name": "stdout",
     "output_type": "stream",
     "text": [
      "https://finance.naver.com/news/news_read.naver?article_id=0002378184&office_id=081&mode=search&query=금리&page=2\n"
     ]
    },
    {
     "name": "stderr",
     "output_type": "stream",
     "text": [
      "100%|██████████| 59/59 [04:06<00:00,  4.17s/it]\n",
      " 36%|███▌      | 47/130 [3:39:26<5:36:52, 243.53s/it]"
     ]
    },
    {
     "name": "stdout",
     "output_type": "stream",
     "text": [
      "55\n"
     ]
    },
    {
     "name": "stderr",
     "output_type": "stream",
     "text": [
      "100%|██████████| 55/55 [04:15<00:00,  4.65s/it]\n",
      " 37%|███▋      | 48/130 [3:43:42<5:38:07, 247.41s/it]"
     ]
    },
    {
     "name": "stdout",
     "output_type": "stream",
     "text": [
      "54\n"
     ]
    },
    {
     "name": "stderr",
     "output_type": "stream",
     "text": [
      "100%|██████████| 54/54 [04:24<00:00,  4.90s/it]\n",
      " 38%|███▊      | 49/130 [3:48:07<5:41:11, 252.73s/it]"
     ]
    },
    {
     "name": "stdout",
     "output_type": "stream",
     "text": [
      "52\n"
     ]
    },
    {
     "name": "stderr",
     "output_type": "stream",
     "text": [
      "100%|██████████| 52/52 [03:50<00:00,  4.43s/it]\n",
      " 38%|███▊      | 50/130 [3:51:58<5:28:09, 246.12s/it]"
     ]
    },
    {
     "name": "stdout",
     "output_type": "stream",
     "text": [
      "67\n"
     ]
    },
    {
     "name": "stderr",
     "output_type": "stream",
     "text": [
      "100%|██████████| 67/67 [04:58<00:00,  4.45s/it]\n",
      " 39%|███▉      | 51/130 [3:56:57<5:44:49, 261.89s/it]"
     ]
    },
    {
     "name": "stdout",
     "output_type": "stream",
     "text": [
      "47\n"
     ]
    },
    {
     "name": "stderr",
     "output_type": "stream",
     "text": []
    },
    {
     "name": "stdout",
     "output_type": "stream",
     "text": [
      "https://finance.naver.com/news/news_read.naver?article_id=0002443785&office_id=011&mode=search&query=금리&page=17\n"
     ]
    },
    {
     "name": "stderr",
     "output_type": "stream",
     "text": []
    },
    {
     "name": "stdout",
     "output_type": "stream",
     "text": [
      "https://finance.naver.com/news/news_read.naver?article_id=0002509852&office_id=020&mode=search&query=금리&page=43\n"
     ]
    },
    {
     "name": "stderr",
     "output_type": "stream",
     "text": [
      "100%|██████████| 47/47 [03:30<00:00,  4.48s/it]\n",
      " 40%|████      | 52/130 [4:00:28<5:20:32, 246.57s/it]"
     ]
    },
    {
     "name": "stdout",
     "output_type": "stream",
     "text": [
      "55\n"
     ]
    },
    {
     "name": "stderr",
     "output_type": "stream",
     "text": [
      "100%|██████████| 55/55 [04:43<00:00,  5.15s/it]\n",
      " 41%|████      | 53/130 [4:05:11<5:30:41, 257.68s/it]"
     ]
    },
    {
     "name": "stdout",
     "output_type": "stream",
     "text": [
      "79\n"
     ]
    },
    {
     "name": "stderr",
     "output_type": "stream",
     "text": []
    },
    {
     "name": "stdout",
     "output_type": "stream",
     "text": [
      "https://finance.naver.com/news/news_read.naver?article_id=0002618652&office_id=022&mode=search&query=금리&page=49\n"
     ]
    },
    {
     "name": "stderr",
     "output_type": "stream",
     "text": [
      "100%|██████████| 79/79 [06:01<00:00,  4.57s/it]\n",
      " 42%|████▏     | 54/130 [4:11:13<6:05:59, 288.94s/it]"
     ]
    },
    {
     "name": "stdout",
     "output_type": "stream",
     "text": [
      "50\n"
     ]
    },
    {
     "name": "stderr",
     "output_type": "stream",
     "text": [
      "100%|██████████| 50/50 [03:40<00:00,  4.42s/it]\n",
      " 42%|████▏     | 55/130 [4:14:54<5:35:48, 268.64s/it]"
     ]
    },
    {
     "name": "stdout",
     "output_type": "stream",
     "text": [
      "49\n"
     ]
    },
    {
     "name": "stderr",
     "output_type": "stream",
     "text": []
    },
    {
     "name": "stdout",
     "output_type": "stream",
     "text": [
      "https://finance.naver.com/news/news_read.naver?article_id=0003020724&office_id=015&mode=search&query=금리&page=16\n"
     ]
    },
    {
     "name": "stderr",
     "output_type": "stream",
     "text": [
      "100%|██████████| 49/49 [03:27<00:00,  4.23s/it]\n",
      " 43%|████▎     | 56/130 [4:18:22<5:08:50, 250.41s/it]"
     ]
    },
    {
     "name": "stdout",
     "output_type": "stream",
     "text": [
      "49\n"
     ]
    },
    {
     "name": "stderr",
     "output_type": "stream",
     "text": []
    },
    {
     "name": "stdout",
     "output_type": "stream",
     "text": [
      "https://finance.naver.com/news/news_read.naver?article_id=0000476336&office_id=016&mode=search&query=금리&page=40\n"
     ]
    },
    {
     "name": "stderr",
     "output_type": "stream",
     "text": [
      "100%|██████████| 49/49 [03:24<00:00,  4.17s/it]\n",
      " 44%|████▍     | 57/130 [4:21:47<4:47:57, 236.68s/it]"
     ]
    },
    {
     "name": "stdout",
     "output_type": "stream",
     "text": [
      "55\n"
     ]
    },
    {
     "name": "stderr",
     "output_type": "stream",
     "text": [
      "100%|██████████| 55/55 [03:53<00:00,  4.25s/it]\n",
      " 45%|████▍     | 58/130 [4:25:41<4:43:10, 235.99s/it]"
     ]
    },
    {
     "name": "stdout",
     "output_type": "stream",
     "text": [
      "68\n"
     ]
    },
    {
     "name": "stderr",
     "output_type": "stream",
     "text": [
      "100%|██████████| 68/68 [04:42<00:00,  4.16s/it]\n",
      " 45%|████▌     | 59/130 [4:30:24<4:55:56, 250.10s/it]"
     ]
    },
    {
     "name": "stdout",
     "output_type": "stream",
     "text": [
      "60\n"
     ]
    },
    {
     "name": "stderr",
     "output_type": "stream",
     "text": []
    },
    {
     "name": "stdout",
     "output_type": "stream",
     "text": [
      "https://finance.naver.com/news/news_read.naver?article_id=0002933811&office_id=018&mode=search&query=금리&page=30\n"
     ]
    },
    {
     "name": "stderr",
     "output_type": "stream",
     "text": [
      "100%|██████████| 60/60 [03:53<00:00,  3.88s/it]\n",
      " 46%|████▌     | 60/130 [4:34:18<4:45:59, 245.13s/it]"
     ]
    },
    {
     "name": "stdout",
     "output_type": "stream",
     "text": [
      "70\n"
     ]
    },
    {
     "name": "stderr",
     "output_type": "stream",
     "text": [
      "100%|██████████| 70/70 [05:36<00:00,  4.80s/it]\n",
      " 47%|████▋     | 61/130 [4:39:54<5:13:27, 272.57s/it]"
     ]
    },
    {
     "name": "stdout",
     "output_type": "stream",
     "text": [
      "64\n"
     ]
    },
    {
     "name": "stderr",
     "output_type": "stream",
     "text": [
      "100%|██████████| 64/64 [04:53<00:00,  4.59s/it]\n",
      " 48%|████▊     | 62/130 [4:44:48<5:16:14, 279.03s/it]"
     ]
    },
    {
     "name": "stdout",
     "output_type": "stream",
     "text": [
      "55\n"
     ]
    },
    {
     "name": "stderr",
     "output_type": "stream",
     "text": [
      "100%|██████████| 55/55 [04:33<00:00,  4.98s/it]\n",
      " 48%|████▊     | 63/130 [4:49:23<5:10:02, 277.65s/it]"
     ]
    },
    {
     "name": "stdout",
     "output_type": "stream",
     "text": [
      "79\n"
     ]
    },
    {
     "name": "stderr",
     "output_type": "stream",
     "text": []
    },
    {
     "name": "stdout",
     "output_type": "stream",
     "text": [
      "https://finance.naver.com/news/news_read.naver?article_id=0002950909&office_id=018&mode=search&query=금리&page=54\n"
     ]
    },
    {
     "name": "stderr",
     "output_type": "stream",
     "text": [
      "100%|██████████| 79/79 [05:36<00:00,  4.25s/it]\n",
      " 49%|████▉     | 64/130 [4:54:59<5:24:51, 295.32s/it]"
     ]
    },
    {
     "name": "stdout",
     "output_type": "stream",
     "text": [
      "62\n"
     ]
    },
    {
     "name": "stderr",
     "output_type": "stream",
     "text": [
      "100%|██████████| 62/62 [05:09<00:00,  5.00s/it]\n",
      " 50%|█████     | 65/130 [5:00:10<5:24:47, 299.81s/it]"
     ]
    },
    {
     "name": "stdout",
     "output_type": "stream",
     "text": [
      "57\n"
     ]
    },
    {
     "name": "stderr",
     "output_type": "stream",
     "text": [
      "100%|██████████| 57/57 [04:36<00:00,  4.86s/it]\n",
      " 51%|█████     | 66/130 [5:04:47<5:12:34, 293.05s/it]"
     ]
    },
    {
     "name": "stdout",
     "output_type": "stream",
     "text": [
      "65\n"
     ]
    },
    {
     "name": "stderr",
     "output_type": "stream",
     "text": []
    },
    {
     "name": "stdout",
     "output_type": "stream",
     "text": [
      "https://finance.naver.com/news/news_read.naver?article_id=0003063176&office_id=015&mode=search&query=금리&page=60\n"
     ]
    },
    {
     "name": "stderr",
     "output_type": "stream",
     "text": [
      "100%|██████████| 65/65 [05:16<00:00,  4.86s/it]\n",
      " 52%|█████▏    | 67/130 [5:10:04<5:15:05, 300.09s/it]"
     ]
    },
    {
     "name": "stdout",
     "output_type": "stream",
     "text": [
      "39\n"
     ]
    },
    {
     "name": "stderr",
     "output_type": "stream",
     "text": []
    },
    {
     "name": "stdout",
     "output_type": "stream",
     "text": [
      "https://finance.naver.com/news/news_read.naver?article_id=0000128773&office_id=375&mode=search&query=금리&page=35\n"
     ]
    },
    {
     "name": "stderr",
     "output_type": "stream",
     "text": [
      "100%|██████████| 39/39 [03:26<00:00,  5.30s/it]\n",
      " 52%|█████▏    | 68/130 [5:13:31<4:41:16, 272.20s/it]"
     ]
    },
    {
     "name": "stdout",
     "output_type": "stream",
     "text": [
      "35\n"
     ]
    },
    {
     "name": "stderr",
     "output_type": "stream",
     "text": [
      "100%|██████████| 35/35 [03:20<00:00,  5.72s/it]\n",
      " 53%|█████▎    | 69/130 [5:16:51<4:14:53, 250.72s/it]"
     ]
    },
    {
     "name": "stdout",
     "output_type": "stream",
     "text": [
      "48\n"
     ]
    },
    {
     "name": "stderr",
     "output_type": "stream",
     "text": []
    },
    {
     "name": "stdout",
     "output_type": "stream",
     "text": [
      "https://finance.naver.com/news/news_read.naver?article_id=0002980183&office_id=018&mode=search&query=금리&page=3\n"
     ]
    },
    {
     "name": "stderr",
     "output_type": "stream",
     "text": [
      "100%|██████████| 48/48 [03:50<00:00,  4.81s/it]\n",
      " 54%|█████▍    | 70/130 [5:20:42<4:04:50, 244.85s/it]"
     ]
    },
    {
     "name": "stdout",
     "output_type": "stream",
     "text": [
      "51\n"
     ]
    },
    {
     "name": "stderr",
     "output_type": "stream",
     "text": [
      "100%|██████████| 51/51 [04:11<00:00,  4.92s/it]\n",
      " 55%|█████▍    | 71/130 [5:24:54<4:02:45, 246.88s/it]"
     ]
    },
    {
     "name": "stdout",
     "output_type": "stream",
     "text": [
      "53\n"
     ]
    },
    {
     "name": "stderr",
     "output_type": "stream",
     "text": [
      "100%|██████████| 53/53 [04:30<00:00,  5.11s/it]\n",
      " 55%|█████▌    | 72/130 [5:29:25<4:05:42, 254.19s/it]"
     ]
    },
    {
     "name": "stdout",
     "output_type": "stream",
     "text": [
      "55\n"
     ]
    },
    {
     "name": "stderr",
     "output_type": "stream",
     "text": [
      "100%|██████████| 55/55 [04:39<00:00,  5.08s/it]\n",
      " 56%|█████▌    | 73/130 [5:34:05<4:08:46, 261.86s/it]"
     ]
    },
    {
     "name": "stdout",
     "output_type": "stream",
     "text": [
      "52\n"
     ]
    },
    {
     "name": "stderr",
     "output_type": "stream",
     "text": [
      "100%|██████████| 52/52 [04:30<00:00,  5.21s/it]\n",
      " 57%|█████▋    | 74/130 [5:38:36<4:07:00, 264.65s/it]"
     ]
    },
    {
     "name": "stdout",
     "output_type": "stream",
     "text": [
      "43\n"
     ]
    },
    {
     "name": "stderr",
     "output_type": "stream",
     "text": [
      "100%|██████████| 43/43 [03:19<00:00,  4.63s/it]\n",
      " 58%|█████▊    | 75/130 [5:41:56<3:44:43, 245.15s/it]"
     ]
    },
    {
     "name": "stdout",
     "output_type": "stream",
     "text": [
      "67\n"
     ]
    },
    {
     "name": "stderr",
     "output_type": "stream",
     "text": [
      "100%|██████████| 67/67 [05:11<00:00,  4.66s/it]\n",
      " 58%|█████▊    | 76/130 [5:47:08<3:58:48, 265.34s/it]"
     ]
    },
    {
     "name": "stdout",
     "output_type": "stream",
     "text": [
      "64\n"
     ]
    },
    {
     "name": "stderr",
     "output_type": "stream",
     "text": [
      "100%|██████████| 64/64 [05:11<00:00,  4.87s/it]\n",
      " 59%|█████▉    | 77/130 [5:52:21<4:06:50, 279.45s/it]"
     ]
    },
    {
     "name": "stdout",
     "output_type": "stream",
     "text": [
      "52\n"
     ]
    },
    {
     "name": "stderr",
     "output_type": "stream",
     "text": [
      "100%|██████████| 52/52 [04:22<00:00,  5.06s/it]\n",
      " 60%|██████    | 78/130 [5:56:44<3:58:01, 274.64s/it]"
     ]
    },
    {
     "name": "stdout",
     "output_type": "stream",
     "text": [
      "53\n"
     ]
    },
    {
     "name": "stderr",
     "output_type": "stream",
     "text": [
      "100%|██████████| 53/53 [04:24<00:00,  4.99s/it]\n",
      " 61%|██████    | 79/130 [6:01:09<3:50:58, 271.73s/it]"
     ]
    },
    {
     "name": "stdout",
     "output_type": "stream",
     "text": [
      "84\n"
     ]
    },
    {
     "name": "stderr",
     "output_type": "stream",
     "text": []
    },
    {
     "name": "stdout",
     "output_type": "stream",
     "text": [
      "https://finance.naver.com/news/news_read.naver?article_id=0000497508&office_id=016&mode=search&query=금리&page=76\n"
     ]
    },
    {
     "name": "stderr",
     "output_type": "stream",
     "text": [
      "100%|██████████| 84/84 [06:50<00:00,  4.88s/it]\n",
      " 62%|██████▏   | 80/130 [6:08:00<4:21:12, 313.45s/it]"
     ]
    },
    {
     "name": "stdout",
     "output_type": "stream",
     "text": [
      "69\n"
     ]
    },
    {
     "name": "stderr",
     "output_type": "stream",
     "text": [
      "100%|██████████| 69/69 [06:09<00:00,  5.35s/it]\n",
      " 62%|██████▏   | 81/130 [6:14:10<4:29:48, 330.39s/it]"
     ]
    },
    {
     "name": "stdout",
     "output_type": "stream",
     "text": [
      "71\n"
     ]
    },
    {
     "name": "stderr",
     "output_type": "stream",
     "text": []
    },
    {
     "name": "stdout",
     "output_type": "stream",
     "text": [
      "https://finance.naver.com/news/news_read.naver?article_id=0000507025&office_id=016&mode=search&query=금리&page=48\n"
     ]
    },
    {
     "name": "stderr",
     "output_type": "stream",
     "text": [
      "100%|██████████| 71/71 [06:14<00:00,  5.28s/it]\n",
      " 63%|██████▎   | 82/130 [6:20:25<4:35:06, 343.88s/it]"
     ]
    },
    {
     "name": "stdout",
     "output_type": "stream",
     "text": [
      "70\n"
     ]
    },
    {
     "name": "stderr",
     "output_type": "stream",
     "text": [
      "100%|██████████| 70/70 [05:54<00:00,  5.06s/it]\n",
      " 64%|██████▍   | 83/130 [6:26:20<4:31:55, 347.14s/it]"
     ]
    },
    {
     "name": "stdout",
     "output_type": "stream",
     "text": [
      "68\n"
     ]
    },
    {
     "name": "stderr",
     "output_type": "stream",
     "text": []
    },
    {
     "name": "stdout",
     "output_type": "stream",
     "text": [
      "https://finance.naver.com/news/news_read.naver?article_id=0006002436&office_id=003&mode=search&query=금리&page=33\n"
     ]
    },
    {
     "name": "stderr",
     "output_type": "stream",
     "text": [
      "100%|██████████| 68/68 [05:27<00:00,  4.82s/it]\n",
      " 65%|██████▍   | 84/130 [6:31:48<4:21:50, 341.52s/it]"
     ]
    },
    {
     "name": "stdout",
     "output_type": "stream",
     "text": [
      "89\n"
     ]
    },
    {
     "name": "stderr",
     "output_type": "stream",
     "text": [
      "100%|██████████| 89/89 [07:17<00:00,  4.92s/it]\n",
      " 65%|██████▌   | 85/130 [6:39:07<4:37:55, 370.56s/it]"
     ]
    },
    {
     "name": "stdout",
     "output_type": "stream",
     "text": [
      "74\n"
     ]
    },
    {
     "name": "stderr",
     "output_type": "stream",
     "text": [
      "100%|██████████| 74/74 [06:13<00:00,  5.05s/it]\n",
      " 66%|██████▌   | 86/130 [6:45:21<4:32:35, 371.71s/it]"
     ]
    },
    {
     "name": "stdout",
     "output_type": "stream",
     "text": [
      "79\n"
     ]
    },
    {
     "name": "stderr",
     "output_type": "stream",
     "text": [
      "100%|██████████| 79/79 [07:12<00:00,  5.48s/it]\n",
      " 67%|██████▋   | 87/130 [6:52:34<4:39:40, 390.25s/it]"
     ]
    },
    {
     "name": "stdout",
     "output_type": "stream",
     "text": [
      "76\n"
     ]
    },
    {
     "name": "stderr",
     "output_type": "stream",
     "text": [
      "100%|██████████| 76/76 [06:28<00:00,  5.11s/it]\n",
      " 68%|██████▊   | 88/130 [6:59:03<4:32:53, 389.85s/it]"
     ]
    },
    {
     "name": "stdout",
     "output_type": "stream",
     "text": [
      "60\n"
     ]
    },
    {
     "name": "stderr",
     "output_type": "stream",
     "text": [
      "100%|██████████| 60/60 [04:25<00:00,  4.42s/it]\n",
      " 68%|██████▊   | 89/130 [7:03:29<4:00:54, 352.56s/it]"
     ]
    },
    {
     "name": "stdout",
     "output_type": "stream",
     "text": [
      "86\n"
     ]
    },
    {
     "name": "stderr",
     "output_type": "stream",
     "text": []
    },
    {
     "name": "stdout",
     "output_type": "stream",
     "text": [
      "https://finance.naver.com/news/news_read.naver?article_id=0002572693&office_id=011&mode=search&query=금리&page=35\n"
     ]
    },
    {
     "name": "stderr",
     "output_type": "stream",
     "text": [
      "100%|██████████| 86/86 [06:46<00:00,  4.72s/it]\n",
      " 69%|██████▉   | 90/130 [7:10:15<4:05:49, 368.74s/it]"
     ]
    },
    {
     "name": "stdout",
     "output_type": "stream",
     "text": [
      "68\n"
     ]
    },
    {
     "name": "stderr",
     "output_type": "stream",
     "text": [
      "100%|██████████| 68/68 [06:20<00:00,  5.60s/it]\n",
      " 70%|███████   | 91/130 [7:16:37<4:02:09, 372.56s/it]"
     ]
    },
    {
     "name": "stdout",
     "output_type": "stream",
     "text": [
      "73\n"
     ]
    },
    {
     "name": "stderr",
     "output_type": "stream",
     "text": [
      "100%|██████████| 73/73 [06:30<00:00,  5.35s/it]\n",
      " 71%|███████   | 92/130 [7:23:08<3:59:28, 378.11s/it]"
     ]
    },
    {
     "name": "stdout",
     "output_type": "stream",
     "text": [
      "74\n"
     ]
    },
    {
     "name": "stderr",
     "output_type": "stream",
     "text": [
      "100%|██████████| 74/74 [06:36<00:00,  5.35s/it]\n",
      " 72%|███████▏  | 93/130 [7:29:44<3:56:34, 383.62s/it]"
     ]
    },
    {
     "name": "stdout",
     "output_type": "stream",
     "text": [
      "108\n"
     ]
    },
    {
     "name": "stderr",
     "output_type": "stream",
     "text": []
    },
    {
     "name": "stdout",
     "output_type": "stream",
     "text": [
      "https://finance.naver.com/news/news_read.naver?article_id=0002532074&office_id=032&mode=search&query=금리&page=102\n"
     ]
    },
    {
     "name": "stderr",
     "output_type": "stream",
     "text": [
      "100%|██████████| 108/108 [09:55<00:00,  5.52s/it]\n",
      " 72%|███████▏  | 94/130 [7:39:41<4:28:27, 447.43s/it]"
     ]
    },
    {
     "name": "stdout",
     "output_type": "stream",
     "text": [
      "79\n"
     ]
    },
    {
     "name": "stderr",
     "output_type": "stream",
     "text": []
    },
    {
     "name": "stdout",
     "output_type": "stream",
     "text": [
      "https://finance.naver.com/news/news_read.naver?article_id=0000160348&office_id=375&mode=search&query=금리&page=3\n"
     ]
    },
    {
     "name": "stderr",
     "output_type": "stream",
     "text": [
      "100%|██████████| 79/79 [07:53<00:00,  5.99s/it]\n",
      " 73%|███████▎  | 95/130 [7:47:35<4:25:37, 455.36s/it]"
     ]
    },
    {
     "name": "stdout",
     "output_type": "stream",
     "text": [
      "102\n"
     ]
    },
    {
     "name": "stderr",
     "output_type": "stream",
     "text": []
    },
    {
     "name": "stdout",
     "output_type": "stream",
     "text": [
      "https://finance.naver.com/news/news_read.naver?article_id=0000196090&office_id=215&mode=search&query=금리&page=69\n"
     ]
    },
    {
     "name": "stderr",
     "output_type": "stream",
     "text": [
      "100%|██████████| 102/102 [09:53<00:00,  5.82s/it]\n",
      " 74%|███████▍  | 96/130 [7:57:29<4:41:38, 497.03s/it]"
     ]
    },
    {
     "name": "stdout",
     "output_type": "stream",
     "text": [
      "74\n"
     ]
    },
    {
     "name": "stderr",
     "output_type": "stream",
     "text": [
      "100%|██████████| 74/74 [07:42<00:00,  6.25s/it]\n",
      " 75%|███████▍  | 97/130 [8:05:12<4:27:45, 486.83s/it]"
     ]
    },
    {
     "name": "stdout",
     "output_type": "stream",
     "text": [
      "77\n"
     ]
    },
    {
     "name": "stderr",
     "output_type": "stream",
     "text": []
    },
    {
     "name": "stdout",
     "output_type": "stream",
     "text": [
      "https://finance.naver.com/news/news_read.naver?article_id=0003366688&office_id=008&mode=search&query=금리&page=49\n"
     ]
    },
    {
     "name": "stderr",
     "output_type": "stream",
     "text": [
      "100%|██████████| 77/77 [07:55<00:00,  6.18s/it]\n",
      " 75%|███████▌  | 98/130 [8:13:08<4:17:58, 483.70s/it]"
     ]
    },
    {
     "name": "stdout",
     "output_type": "stream",
     "text": [
      "61\n"
     ]
    },
    {
     "name": "stderr",
     "output_type": "stream",
     "text": [
      "100%|██████████| 61/61 [05:39<00:00,  5.57s/it]\n",
      " 76%|███████▌  | 99/130 [8:18:49<3:47:40, 440.67s/it]"
     ]
    },
    {
     "name": "stdout",
     "output_type": "stream",
     "text": [
      "89\n"
     ]
    },
    {
     "name": "stderr",
     "output_type": "stream",
     "text": []
    },
    {
     "name": "stdout",
     "output_type": "stream",
     "text": [
      "https://finance.naver.com/news/news_read.naver?article_id=0003303838&office_id=014&mode=search&query=금리&page=13\n"
     ]
    },
    {
     "name": "stderr",
     "output_type": "stream",
     "text": [
      "100%|██████████| 89/89 [08:08<00:00,  5.48s/it]\n",
      " 77%|███████▋  | 100/130 [8:26:57<3:47:30, 455.02s/it]"
     ]
    },
    {
     "name": "stdout",
     "output_type": "stream",
     "text": [
      "68\n"
     ]
    },
    {
     "name": "stderr",
     "output_type": "stream",
     "text": [
      "100%|██████████| 68/68 [06:50<00:00,  6.04s/it]\n",
      " 78%|███████▊  | 101/130 [8:33:48<3:33:31, 441.79s/it]"
     ]
    },
    {
     "name": "stdout",
     "output_type": "stream",
     "text": [
      "79\n"
     ]
    },
    {
     "name": "stderr",
     "output_type": "stream",
     "text": [
      "100%|██████████| 79/79 [07:07<00:00,  5.41s/it]\n",
      " 78%|███████▊  | 102/130 [8:40:56<3:24:14, 437.65s/it]"
     ]
    },
    {
     "name": "stdout",
     "output_type": "stream",
     "text": [
      "90\n"
     ]
    },
    {
     "name": "stderr",
     "output_type": "stream",
     "text": []
    },
    {
     "name": "stdout",
     "output_type": "stream",
     "text": [
      "https://finance.naver.com/news/news_read.naver?article_id=0003323113&office_id=014&mode=search&query=금리&page=19\n"
     ]
    },
    {
     "name": "stderr",
     "output_type": "stream",
     "text": [
      "100%|██████████| 90/90 [08:01<00:00,  5.35s/it]\n",
      " 79%|███████▉  | 103/130 [8:48:58<3:22:57, 451.01s/it]"
     ]
    },
    {
     "name": "stdout",
     "output_type": "stream",
     "text": [
      "62\n"
     ]
    },
    {
     "name": "stderr",
     "output_type": "stream",
     "text": []
    },
    {
     "name": "stdout",
     "output_type": "stream",
     "text": [
      "https://finance.naver.com/news/news_read.naver?article_id=0003219904&office_id=015&mode=search&query=금리&page=53\n"
     ]
    },
    {
     "name": "stderr",
     "output_type": "stream",
     "text": []
    },
    {
     "name": "stdout",
     "output_type": "stream",
     "text": [
      "https://finance.naver.com/news/news_read.naver?article_id=0006265130&office_id=003&mode=search&query=금리&page=56\n"
     ]
    },
    {
     "name": "stderr",
     "output_type": "stream",
     "text": [
      "100%|██████████| 62/62 [06:08<00:00,  5.94s/it]\n",
      " 80%|████████  | 104/130 [8:55:07<3:04:44, 426.32s/it]"
     ]
    },
    {
     "name": "stdout",
     "output_type": "stream",
     "text": [
      "67\n"
     ]
    },
    {
     "name": "stderr",
     "output_type": "stream",
     "text": []
    },
    {
     "name": "stdout",
     "output_type": "stream",
     "text": [
      "https://finance.naver.com/news/news_read.naver?article_id=0000604853&office_id=016&mode=search&query=금리&page=44\n"
     ]
    },
    {
     "name": "stderr",
     "output_type": "stream",
     "text": [
      "100%|██████████| 67/67 [07:43<00:00,  6.91s/it]\n",
      " 81%|████████  | 105/130 [9:02:50<3:02:17, 437.49s/it]"
     ]
    },
    {
     "name": "stdout",
     "output_type": "stream",
     "text": [
      "72\n"
     ]
    },
    {
     "name": "stderr",
     "output_type": "stream",
     "text": []
    },
    {
     "name": "stdout",
     "output_type": "stream",
     "text": [
      "https://finance.naver.com/news/news_read.naver?article_id=0003156062&office_id=018&mode=search&query=금리&page=24\n"
     ]
    },
    {
     "name": "stderr",
     "output_type": "stream",
     "text": [
      "100%|██████████| 72/72 [07:14<00:00,  6.03s/it]\n",
      " 82%|████████▏ | 106/130 [9:10:05<2:54:41, 436.74s/it]"
     ]
    },
    {
     "name": "stdout",
     "output_type": "stream",
     "text": [
      "92\n"
     ]
    },
    {
     "name": "stderr",
     "output_type": "stream",
     "text": []
    },
    {
     "name": "stdout",
     "output_type": "stream",
     "text": [
      "https://finance.naver.com/news/news_read.naver?article_id=0003162110&office_id=018&mode=search&query=금리&page=12\n"
     ]
    },
    {
     "name": "stderr",
     "output_type": "stream",
     "text": []
    },
    {
     "name": "stdout",
     "output_type": "stream",
     "text": [
      "https://finance.naver.com/news/news_read.naver?article_id=0000172901&office_id=375&mode=search&query=금리&page=36\n"
     ]
    },
    {
     "name": "stderr",
     "output_type": "stream",
     "text": []
    },
    {
     "name": "stdout",
     "output_type": "stream",
     "text": [
      "https://finance.naver.com/news/news_read.naver?article_id=0000036530&office_id=050&mode=search&query=금리&page=57\n",
      "https://finance.naver.com/news/news_read.naver?article_id=0003401254&office_id=008&mode=search&query=금리&page=57\n"
     ]
    },
    {
     "name": "stderr",
     "output_type": "stream",
     "text": [
      "100%|██████████| 92/92 [08:25<00:00,  5.49s/it]\n",
      " 82%|████████▏ | 107/130 [9:18:31<2:55:22, 457.52s/it]"
     ]
    },
    {
     "name": "stdout",
     "output_type": "stream",
     "text": [
      "68\n"
     ]
    },
    {
     "name": "stderr",
     "output_type": "stream",
     "text": [
      "100%|██████████| 68/68 [07:07<00:00,  6.29s/it]\n",
      " 83%|████████▎ | 108/130 [9:25:39<2:44:29, 448.63s/it]"
     ]
    },
    {
     "name": "stdout",
     "output_type": "stream",
     "text": [
      "80\n"
     ]
    },
    {
     "name": "stderr",
     "output_type": "stream",
     "text": [
      "100%|██████████| 80/80 [07:29<00:00,  5.61s/it]\n",
      " 84%|████████▍ | 109/130 [9:33:09<2:37:08, 448.98s/it]"
     ]
    },
    {
     "name": "stdout",
     "output_type": "stream",
     "text": [
      "82\n"
     ]
    },
    {
     "name": "stderr",
     "output_type": "stream",
     "text": [
      "100%|██████████| 82/82 [08:20<00:00,  6.10s/it]\n",
      " 85%|████████▍ | 110/130 [9:41:30<2:34:52, 464.60s/it]"
     ]
    },
    {
     "name": "stdout",
     "output_type": "stream",
     "text": [
      "72\n"
     ]
    },
    {
     "name": "stderr",
     "output_type": "stream",
     "text": [
      "100%|██████████| 72/72 [07:04<00:00,  5.90s/it]\n",
      " 85%|████████▌ | 111/130 [9:48:36<2:23:24, 452.86s/it]"
     ]
    },
    {
     "name": "stdout",
     "output_type": "stream",
     "text": [
      "47\n"
     ]
    },
    {
     "name": "stderr",
     "output_type": "stream",
     "text": []
    },
    {
     "name": "stdout",
     "output_type": "stream",
     "text": [
      "https://finance.naver.com/news/news_read.naver?article_id=0003422725&office_id=008&mode=search&query=금리&page=7\n"
     ]
    },
    {
     "name": "stderr",
     "output_type": "stream",
     "text": []
    },
    {
     "name": "stdout",
     "output_type": "stream",
     "text": [
      "https://finance.naver.com/news/news_read.naver?article_id=0002523080&office_id=081&mode=search&query=금리&page=42\n"
     ]
    },
    {
     "name": "stderr",
     "output_type": "stream",
     "text": [
      "100%|██████████| 47/47 [03:56<00:00,  5.03s/it]\n",
      " 86%|████████▌ | 112/130 [9:52:33<1:56:25, 388.11s/it]"
     ]
    },
    {
     "name": "stdout",
     "output_type": "stream",
     "text": [
      "84\n"
     ]
    },
    {
     "name": "stderr",
     "output_type": "stream",
     "text": []
    },
    {
     "name": "stdout",
     "output_type": "stream",
     "text": [
      "https://finance.naver.com/news/news_read.naver?article_id=0003261786&office_id=015&mode=search&query=금리&page=79\n"
     ]
    },
    {
     "name": "stderr",
     "output_type": "stream",
     "text": [
      "100%|██████████| 84/84 [07:35<00:00,  5.42s/it]\n",
      " 87%|████████▋ | 113/130 [10:00:08<1:55:41, 408.33s/it]"
     ]
    },
    {
     "name": "stdout",
     "output_type": "stream",
     "text": [
      "96\n"
     ]
    },
    {
     "name": "stderr",
     "output_type": "stream",
     "text": []
    },
    {
     "name": "stdout",
     "output_type": "stream",
     "text": [
      "https://finance.naver.com/news/news_read.naver?article_id=0002646650&office_id=011&mode=search&query=금리&page=83\n"
     ]
    },
    {
     "name": "stderr",
     "output_type": "stream",
     "text": [
      "100%|██████████| 96/96 [08:57<00:00,  5.59s/it]\n",
      " 88%|████████▊ | 114/130 [10:09:06<1:59:13, 447.11s/it]"
     ]
    },
    {
     "name": "stdout",
     "output_type": "stream",
     "text": [
      "179\n"
     ]
    },
    {
     "name": "stderr",
     "output_type": "stream",
     "text": []
    },
    {
     "name": "stdout",
     "output_type": "stream",
     "text": [
      "https://finance.naver.com/news/news_read.naver?article_id=0000661732&office_id=016&mode=search&query=금리&page=89\n"
     ]
    },
    {
     "name": "stderr",
     "output_type": "stream",
     "text": []
    },
    {
     "name": "stdout",
     "output_type": "stream",
     "text": [
      "https://finance.naver.com/news/news_read.naver?article_id=0003203116&office_id=018&mode=search&query=금리&page=100\n"
     ]
    },
    {
     "name": "stderr",
     "output_type": "stream",
     "text": [
      "100%|██████████| 179/179 [17:05<00:00,  5.73s/it]\n",
      " 88%|████████▊ | 115/130 [10:26:12<2:35:10, 620.71s/it]"
     ]
    },
    {
     "name": "stdout",
     "output_type": "stream",
     "text": [
      "159\n"
     ]
    },
    {
     "name": "stderr",
     "output_type": "stream",
     "text": []
    },
    {
     "name": "stdout",
     "output_type": "stream",
     "text": [
      "https://finance.naver.com/news/news_read.naver?article_id=0003210551&office_id=018&mode=search&query=금리&page=9\n"
     ]
    },
    {
     "name": "stderr",
     "output_type": "stream",
     "text": [
      "100%|██████████| 159/159 [15:34<00:00,  5.88s/it]\n",
      " 89%|████████▉ | 116/130 [10:41:46<2:46:49, 714.97s/it]"
     ]
    },
    {
     "name": "stdout",
     "output_type": "stream",
     "text": [
      "140\n"
     ]
    },
    {
     "name": "stderr",
     "output_type": "stream",
     "text": []
    },
    {
     "name": "stdout",
     "output_type": "stream",
     "text": [
      "https://finance.naver.com/news/news_read.naver?article_id=0003444269&office_id=008&mode=search&query=금리&page=4\n"
     ]
    },
    {
     "name": "stderr",
     "output_type": "stream",
     "text": [
      "100%|██████████| 140/140 [14:57<00:00,  6.41s/it]\n",
      " 90%|█████████ | 117/130 [10:56:45<2:46:50, 770.04s/it]"
     ]
    },
    {
     "name": "stdout",
     "output_type": "stream",
     "text": [
      "124\n"
     ]
    },
    {
     "name": "stderr",
     "output_type": "stream",
     "text": []
    },
    {
     "name": "stdout",
     "output_type": "stream",
     "text": [
      "https://finance.naver.com/news/news_read.naver?article_id=0002542666&office_id=081&mode=search&query=금리&page=3\n"
     ]
    },
    {
     "name": "stderr",
     "output_type": "stream",
     "text": [
      "100%|██████████| 124/124 [12:58<00:00,  6.28s/it]\n",
      " 91%|█████████ | 118/130 [11:09:44<2:34:34, 772.85s/it]"
     ]
    },
    {
     "name": "stdout",
     "output_type": "stream",
     "text": [
      "132\n"
     ]
    },
    {
     "name": "stderr",
     "output_type": "stream",
     "text": [
      "100%|██████████| 132/132 [13:02<00:00,  5.93s/it]\n",
      " 92%|█████████▏| 119/130 [11:22:48<2:22:15, 776.00s/it]"
     ]
    },
    {
     "name": "stdout",
     "output_type": "stream",
     "text": [
      "97\n"
     ]
    },
    {
     "name": "stderr",
     "output_type": "stream",
     "text": []
    },
    {
     "name": "stdout",
     "output_type": "stream",
     "text": [
      "https://finance.naver.com/news/news_read.naver?article_id=0003480133&office_id=277&mode=search&query=금리&page=3\n"
     ]
    },
    {
     "name": "stderr",
     "output_type": "stream",
     "text": [
      "100%|██████████| 97/97 [10:18<00:00,  6.38s/it]\n",
      " 92%|█████████▏| 120/130 [11:33:07<2:01:30, 729.05s/it]"
     ]
    },
    {
     "name": "stdout",
     "output_type": "stream",
     "text": [
      "88\n"
     ]
    },
    {
     "name": "stderr",
     "output_type": "stream",
     "text": [
      "100%|██████████| 88/88 [09:43<00:00,  6.64s/it]\n",
      " 93%|█████████▎| 121/130 [11:42:52<1:42:51, 685.69s/it]"
     ]
    },
    {
     "name": "stdout",
     "output_type": "stream",
     "text": [
      "86\n"
     ]
    },
    {
     "name": "stderr",
     "output_type": "stream",
     "text": []
    },
    {
     "name": "stdout",
     "output_type": "stream",
     "text": [
      "https://finance.naver.com/news/news_read.naver?article_id=0007557374&office_id=001&mode=search&query=금리&page=62\n"
     ]
    },
    {
     "name": "stderr",
     "output_type": "stream",
     "text": []
    },
    {
     "name": "stdout",
     "output_type": "stream",
     "text": [
      "https://finance.naver.com/news/news_read.naver?article_id=0000708011&office_id=016&mode=search&query=금리&page=72\n"
     ]
    },
    {
     "name": "stderr",
     "output_type": "stream",
     "text": [
      "100%|██████████| 86/86 [08:47<00:00,  6.13s/it]\n",
      " 94%|█████████▍| 122/130 [11:51:40<1:25:07, 638.41s/it]"
     ]
    },
    {
     "name": "stdout",
     "output_type": "stream",
     "text": [
      "80\n"
     ]
    },
    {
     "name": "stderr",
     "output_type": "stream",
     "text": [
      "100%|██████████| 80/80 [08:34<00:00,  6.43s/it]\n",
      " 95%|█████████▍| 123/130 [12:00:15<1:10:10, 601.44s/it]"
     ]
    },
    {
     "name": "stdout",
     "output_type": "stream",
     "text": [
      "115\n"
     ]
    },
    {
     "name": "stderr",
     "output_type": "stream",
     "text": [
      "100%|██████████| 115/115 [11:20<00:00,  5.92s/it]\n",
      " 95%|█████████▌| 124/130 [12:11:36<1:02:31, 625.30s/it]"
     ]
    },
    {
     "name": "stdout",
     "output_type": "stream",
     "text": [
      "83\n"
     ]
    },
    {
     "name": "stderr",
     "output_type": "stream",
     "text": []
    },
    {
     "name": "stdout",
     "output_type": "stream",
     "text": [
      "https://finance.naver.com/news/news_read.naver?article_id=0003473511&office_id=008&mode=search&query=금리&page=58\n"
     ]
    },
    {
     "name": "stderr",
     "output_type": "stream",
     "text": []
    },
    {
     "name": "stdout",
     "output_type": "stream",
     "text": [
      "https://finance.naver.com/news/news_read.naver?article_id=0003485528&office_id=009&mode=search&query=금리&page=79\n"
     ]
    },
    {
     "name": "stderr",
     "output_type": "stream",
     "text": [
      "100%|██████████| 83/83 [07:57<00:00,  5.75s/it]\n",
      " 96%|█████████▌| 125/130 [12:19:34<48:25, 581.15s/it]  "
     ]
    },
    {
     "name": "stdout",
     "output_type": "stream",
     "text": [
      "88\n"
     ]
    },
    {
     "name": "stderr",
     "output_type": "stream",
     "text": []
    },
    {
     "name": "stdout",
     "output_type": "stream",
     "text": [
      "https://finance.naver.com/news/news_read.naver?article_id=0003341154&office_id=015&mode=search&query=금리&page=55\n"
     ]
    },
    {
     "name": "stderr",
     "output_type": "stream",
     "text": [
      "100%|██████████| 88/88 [08:47<00:00,  5.99s/it]\n",
      " 97%|█████████▋| 126/130 [12:28:22<37:40, 565.18s/it]"
     ]
    },
    {
     "name": "stdout",
     "output_type": "stream",
     "text": [
      "87\n"
     ]
    },
    {
     "name": "stderr",
     "output_type": "stream",
     "text": [
      "100%|██████████| 87/87 [08:45<00:00,  6.04s/it]\n",
      " 98%|█████████▊| 127/130 [12:37:08<27:40, 553.38s/it]"
     ]
    },
    {
     "name": "stdout",
     "output_type": "stream",
     "text": [
      "143\n"
     ]
    },
    {
     "name": "stderr",
     "output_type": "stream",
     "text": [
      "100%|██████████| 143/143 [14:17<00:00,  6.00s/it]\n",
      " 98%|█████████▊| 128/130 [12:51:26<21:29, 644.92s/it]"
     ]
    },
    {
     "name": "stdout",
     "output_type": "stream",
     "text": [
      "125\n"
     ]
    },
    {
     "name": "stderr",
     "output_type": "stream",
     "text": [
      "100%|██████████| 125/125 [12:28<00:00,  5.99s/it]\n",
      " 99%|█████████▉| 129/130 [13:03:56<11:16, 676.25s/it]"
     ]
    },
    {
     "name": "stdout",
     "output_type": "stream",
     "text": [
      "121\n"
     ]
    },
    {
     "name": "stderr",
     "output_type": "stream",
     "text": []
    },
    {
     "name": "stdout",
     "output_type": "stream",
     "text": [
      "https://finance.naver.com/news/news_read.naver?article_id=0003512181&office_id=009&mode=search&query=금리&page=48\n"
     ]
    },
    {
     "name": "stderr",
     "output_type": "stream",
     "text": []
    },
    {
     "name": "stdout",
     "output_type": "stream",
     "text": [
      "https://finance.naver.com/news/news_read.naver?article_id=0001486201&office_id=421&mode=search&query=금리&page=66\n"
     ]
    },
    {
     "name": "stderr",
     "output_type": "stream",
     "text": []
    },
    {
     "name": "stdout",
     "output_type": "stream",
     "text": [
      "https://finance.naver.com/news/news_read.naver?article_id=0007674380&office_id=001&mode=search&query=금리&page=121\n"
     ]
    },
    {
     "name": "stderr",
     "output_type": "stream",
     "text": [
      "100%|██████████| 121/121 [13:15<00:00,  6.57s/it]\n",
      "100%|██████████| 130/130 [13:17:11<00:00, 367.94s/it]\n"
     ]
    }
   ],
   "source": [
    "# NNC(NaverNewsCrawling)\n",
    "import time\n",
    "import datetime\n",
    "import requests, os\n",
    "from bs4 import BeautifulSoup\n",
    "import pandas as pd\n",
    "from tqdm import tqdm\n",
    "\n",
    "date_date = pd.date_range('2012-12-30', '2023-08-31', freq='W') #2013년부터 2023년까지 뉴스데이터 크롤링\n",
    "date_role = [date_date[:130],date_date[130:260],date_date[260:390],date_date[390:520],date_date[520:]]\n",
    "\n",
    "dir_path = './secret_news_crawling'\n",
    "os.makedirs(dir_path, exist_ok=True)\n",
    "\n",
    "for date in tqdm(date_role[0]):  #자신의 번호로 인덱싱\n",
    "    df = pd.DataFrame(columns =['신문사', '제목', '내용', '날짜'])\n",
    "    DateStart = date.strftime('%Y-%m-%d')\n",
    "    DateEnd = (date+datetime.timedelta(6)).strftime('%Y-%m-%d')\n",
    "    last_url = f\"https://finance.naver.com/news/news_search.naver?rcdate=&q=%B1%DD%B8%AE&x=20&y=14&sm=all.basic&pd=4&stDateStart={DateStart}&stDateEnd={DateEnd}&page=1\"\n",
    "    headers = {'authority' : 'finance.naver.com',\n",
    "                'User-Agent': 'Mozilla/5.0 (Windows NT 10.0; Win64; x64) AppleWebKit/537.36 (KHTML, like Gecko) Chrome/114.0.0.0 Safari/537.36'}\n",
    "    response = requests.get(last_url, headers=headers)\n",
    "    soup = BeautifulSoup(response.content)\n",
    "    last_page = soup.select('.pgRR a')[0]['href'].split('=')[-1] #마지막 페이지 가져오기\n",
    "    print(last_page)\n",
    "    for i in tqdm(range(1, int(last_page)+1)):   # 여기서 마지막 페이지까지 반복문\n",
    "        news_url = f\"https://finance.naver.com/news/news_search.naver?rcdate=&q=%B1%DD%B8%AE&x=20&y=14&sm=all.basic&pd=4&stDateStart={DateStart}&stDateEnd={DateEnd}&page={i}\"\n",
    "        headers = {'authority' : 'finance.naver.com',\n",
    "                    'User-Agent': 'Mozilla/5.0 (Windows NT 10.0; Win64; x64) AppleWebKit/537.36 (KHTML, like Gecko) Chrome/114.0.0.0 Safari/537.36'}\n",
    "        response = requests.get(news_url, headers=headers)\n",
    "        soup = BeautifulSoup(response.content)\n",
    "        news = soup.select('.thumb a' )\n",
    "        magazine = soup.select('.articleSummary .press') #신문사 데이터\n",
    "        newsdate = soup.select('.articleSummary .wdate') # 날짜 데이터\n",
    "\n",
    "        news_link = []\n",
    "        magazine_name = []\n",
    "        dates = []\n",
    "        for i in range(len(news)):\n",
    "            news_link.append('https://finance.naver.com' + news[i].attrs['href'].replace('amp;', ''))  #amp;제거해서 링크활성화\n",
    "            magazine_name.append(magazine[i].text)\n",
    "            dates.append(newsdate[i])\n",
    "\n",
    "        total = []\n",
    "        for index, j in enumerate(news_link):\n",
    "            news_resp = requests.get(j, headers=headers)\n",
    "            news_soup = BeautifulSoup(news_resp.content)\n",
    "            try:\n",
    "                title = news_soup.select('.article_info h3')[0].text.strip()\n",
    "                content = news_soup.select('#content')[-1].text.strip()\n",
    "            except:\n",
    "                print(j)\n",
    "                continue\n",
    "            total.append([magazine_name[index],title, content, newsdate[index].text.lstrip()[:10]])\n",
    "        \n",
    "        df_temp = pd.DataFrame(total, columns = ['신문사', '제목', '내용', '날짜'])  #모든 리스트를 데이터프레임으로 전환\n",
    "        df = pd.concat([df, df_temp], ignore_index = True)\n",
    "    df.to_csv(f'{dir_path}/{DateStart}_{DateEnd}.csv', encoding='utf-8') # 1주일 간격으로 크롤링 데이터 저장    "
   ]
  },
  {
   "cell_type": "code",
   "execution_count": 7,
   "metadata": {},
   "outputs": [
    {
     "name": "stderr",
     "output_type": "stream",
     "text": [
      "  0%|          | 0/556 [00:00<?, ?it/s]"
     ]
    },
    {
     "name": "stdout",
     "output_type": "stream",
     "text": [
      "84\n"
     ]
    },
    {
     "name": "stderr",
     "output_type": "stream",
     "text": []
    }
   ],
   "source": [
    "# BAC(Bond Analysis Crawling)\n",
    "import time\n",
    "import datetime\n",
    "import requests, os\n",
    "from bs4 import BeautifulSoup\n",
    "import pandas as pd\n",
    "from tqdm import tqdm\n",
    "# '채권보고서' 라는 이름으로 검색을 해서 나온 기사 가져오기\n",
    "date_date = pd.date_range('2012-12-30', '2023-08-31', freq='30D') #2013년부터 2023년까지 채권보고서 기사 크롤링(해당 기간동안 130개)\n",
    "date_role = [date_date[:26],date_date[26:52],date_date[52:78],date_date[78:104],date_date[104:]]\n",
    "dir_path = './secret_bond_crawling'\n",
    "os.makedirs(dir_path, exist_ok=True) # mkdir과 달리 이미 해당이름의 폴더가 있어도 에러가 나지 않는다.\n",
    "for date in tqdm(date_role[0]):  #자신의 번호로 인덱싱\n",
    "    df = pd.DataFrame(columns =['신문사', '제목', '내용', '날짜'])\n",
    "    DateStart = date.strftime('%Y-%m-%d')\n",
    "    DateEnd = (date+datetime.timedelta(29)).strftime('%Y-%m-%d')\n",
    "    bond_last_url = f\"https://finance.naver.com/news/news_search.naver?rcdate=&q=%C3%A4%B1%C7+%BA%B8%B0%ED%BC%AD&x=21&y=6&sm=all.basic&pd=4&stDateStart={DateStart}&stDateEnd={DateEnd}&page=1\"\n",
    "    headers = {'authority' : 'finance.naver.com',\n",
    "                'User-Agent': 'Mozilla/5.0 (Windows NT 10.0; Win64; x64) AppleWebKit/537.36 (KHTML, like Gecko) Chrome/114.0.0.0 Safari/537.36'}\n",
    "    response = requests.get(last_url, headers=headers)\n",
    "    soup = BeautifulSoup(response.text)\n",
    "    last_page = soup.select('.pgRR a')[0]['href'].split('=')[-1] #마지막 페이지 가져오기\n",
    "    print(last_page)\n",
    "    for i in tqdm(range(1, int(last_page)+1)):   # 여기서 마지막 페이지까지 반복문\n",
    "        bond_url = f\"https://finance.naver.com/news/news_search.naver?rcdate=&q=%C3%A4%B1%C7+%BA%B8%B0%ED%BC%AD&x=21&y=6&sm=all.basic&pd=4&stDateStart={DateStart}&stDateEnd={DateEnd}&page={i}\"\n",
    "        headers = {'authority' : 'finance.naver.com',\n",
    "                    'User-Agent': 'Mozilla/5.0 (Windows NT 10.0; Win64; x64) AppleWebKit/537.36 (KHTML, like Gecko) Chrome/114.0.0.0 Safari/537.36'}\n",
    "        response = requests.get(news_url, headers=headers)\n",
    "        soup = BeautifulSoup(response.text)\n",
    "        news = soup.select('.thumb a' )\n",
    "        magazine = soup.select('.articleSummary .press') #신문사 데이터\n",
    "        newsdate = soup.select('.articleSummary .wdate') # 날짜 데이터\n",
    "        news_link = []\n",
    "        magazine_name = []\n",
    "        dates = []\n",
    "        for i in range(len(news)):\n",
    "            news_link.append('https://finance.naver.com' + news[i].attrs['href'].replace('amp;', ''))  #amp;제거해서 링크활성화\n",
    "            magazine_name.append(magazine[i].text)\n",
    "            dates.append(newsdate[i])\n",
    "        total = []\n",
    "        for index, j in enumerate(news_link):\n",
    "            news_resp = requests.get(j, headers=headers)\n",
    "            news_soup = BeautifulSoup(news_resp.text)\n",
    "            try:\n",
    "                title = news_soup.select('.article_info h3')[0].text.strip()\n",
    "                content = news_soup.select('#content')[-1].text.strip()\n",
    "            except:\n",
    "                print(j)\n",
    "                continue\n",
    "            total.append([magazine_name[index],title, content, newsdate[index].text.lstrip()[:10]])\n",
    "        df_temp = pd.DataFrame(total, columns = ['신문사', '제목', '내용', '날짜'])  #모든 리스트를 데이터프레임으로 전환\n",
    "        df = pd.concat([df, df_temp], ignore_index = True)\n",
    "    df.to_csv(f'{dir_path}/{DateStart}_{DateEnd}.csv', encoding='utf-8') # 1주일 간격으로 크롤링 데이터 저장\n"
   ]
  },
  {
   "cell_type": "code",
   "execution_count": 10,
   "metadata": {},
   "outputs": [
    {
     "ename": "FileNotFoundError",
     "evalue": "[Errno 2] No such file or directory: '2023-08-20_2023-08-27.csv'",
     "output_type": "error",
     "traceback": [
      "\u001b[1;31m---------------------------------------------------------------------------\u001b[0m",
      "\u001b[1;31mFileNotFoundError\u001b[0m                         Traceback (most recent call last)",
      "Cell \u001b[1;32mIn[10], line 2\u001b[0m\n\u001b[0;32m      1\u001b[0m \u001b[39mimport\u001b[39;00m \u001b[39mpandas\u001b[39;00m \u001b[39mas\u001b[39;00m \u001b[39mpd\u001b[39;00m\n\u001b[1;32m----> 2\u001b[0m news \u001b[39m=\u001b[39m pd\u001b[39m.\u001b[39;49mread_csv(\u001b[39m'\u001b[39;49m\u001b[39m2023-08-20_2023-08-27.csv\u001b[39;49m\u001b[39m'\u001b[39;49m)\n\u001b[0;32m      3\u001b[0m news\n",
      "File \u001b[1;32mc:\\ProgramData\\anaconda3\\lib\\site-packages\\pandas\\util\\_decorators.py:211\u001b[0m, in \u001b[0;36mdeprecate_kwarg.<locals>._deprecate_kwarg.<locals>.wrapper\u001b[1;34m(*args, **kwargs)\u001b[0m\n\u001b[0;32m    209\u001b[0m     \u001b[39melse\u001b[39;00m:\n\u001b[0;32m    210\u001b[0m         kwargs[new_arg_name] \u001b[39m=\u001b[39m new_arg_value\n\u001b[1;32m--> 211\u001b[0m \u001b[39mreturn\u001b[39;00m func(\u001b[39m*\u001b[39margs, \u001b[39m*\u001b[39m\u001b[39m*\u001b[39mkwargs)\n",
      "File \u001b[1;32mc:\\ProgramData\\anaconda3\\lib\\site-packages\\pandas\\util\\_decorators.py:331\u001b[0m, in \u001b[0;36mdeprecate_nonkeyword_arguments.<locals>.decorate.<locals>.wrapper\u001b[1;34m(*args, **kwargs)\u001b[0m\n\u001b[0;32m    325\u001b[0m \u001b[39mif\u001b[39;00m \u001b[39mlen\u001b[39m(args) \u001b[39m>\u001b[39m num_allow_args:\n\u001b[0;32m    326\u001b[0m     warnings\u001b[39m.\u001b[39mwarn(\n\u001b[0;32m    327\u001b[0m         msg\u001b[39m.\u001b[39mformat(arguments\u001b[39m=\u001b[39m_format_argument_list(allow_args)),\n\u001b[0;32m    328\u001b[0m         \u001b[39mFutureWarning\u001b[39;00m,\n\u001b[0;32m    329\u001b[0m         stacklevel\u001b[39m=\u001b[39mfind_stack_level(),\n\u001b[0;32m    330\u001b[0m     )\n\u001b[1;32m--> 331\u001b[0m \u001b[39mreturn\u001b[39;00m func(\u001b[39m*\u001b[39margs, \u001b[39m*\u001b[39m\u001b[39m*\u001b[39mkwargs)\n",
      "File \u001b[1;32mc:\\ProgramData\\anaconda3\\lib\\site-packages\\pandas\\io\\parsers\\readers.py:950\u001b[0m, in \u001b[0;36mread_csv\u001b[1;34m(filepath_or_buffer, sep, delimiter, header, names, index_col, usecols, squeeze, prefix, mangle_dupe_cols, dtype, engine, converters, true_values, false_values, skipinitialspace, skiprows, skipfooter, nrows, na_values, keep_default_na, na_filter, verbose, skip_blank_lines, parse_dates, infer_datetime_format, keep_date_col, date_parser, dayfirst, cache_dates, iterator, chunksize, compression, thousands, decimal, lineterminator, quotechar, quoting, doublequote, escapechar, comment, encoding, encoding_errors, dialect, error_bad_lines, warn_bad_lines, on_bad_lines, delim_whitespace, low_memory, memory_map, float_precision, storage_options)\u001b[0m\n\u001b[0;32m    935\u001b[0m kwds_defaults \u001b[39m=\u001b[39m _refine_defaults_read(\n\u001b[0;32m    936\u001b[0m     dialect,\n\u001b[0;32m    937\u001b[0m     delimiter,\n\u001b[1;32m   (...)\u001b[0m\n\u001b[0;32m    946\u001b[0m     defaults\u001b[39m=\u001b[39m{\u001b[39m\"\u001b[39m\u001b[39mdelimiter\u001b[39m\u001b[39m\"\u001b[39m: \u001b[39m\"\u001b[39m\u001b[39m,\u001b[39m\u001b[39m\"\u001b[39m},\n\u001b[0;32m    947\u001b[0m )\n\u001b[0;32m    948\u001b[0m kwds\u001b[39m.\u001b[39mupdate(kwds_defaults)\n\u001b[1;32m--> 950\u001b[0m \u001b[39mreturn\u001b[39;00m _read(filepath_or_buffer, kwds)\n",
      "File \u001b[1;32mc:\\ProgramData\\anaconda3\\lib\\site-packages\\pandas\\io\\parsers\\readers.py:605\u001b[0m, in \u001b[0;36m_read\u001b[1;34m(filepath_or_buffer, kwds)\u001b[0m\n\u001b[0;32m    602\u001b[0m _validate_names(kwds\u001b[39m.\u001b[39mget(\u001b[39m\"\u001b[39m\u001b[39mnames\u001b[39m\u001b[39m\"\u001b[39m, \u001b[39mNone\u001b[39;00m))\n\u001b[0;32m    604\u001b[0m \u001b[39m# Create the parser.\u001b[39;00m\n\u001b[1;32m--> 605\u001b[0m parser \u001b[39m=\u001b[39m TextFileReader(filepath_or_buffer, \u001b[39m*\u001b[39m\u001b[39m*\u001b[39mkwds)\n\u001b[0;32m    607\u001b[0m \u001b[39mif\u001b[39;00m chunksize \u001b[39mor\u001b[39;00m iterator:\n\u001b[0;32m    608\u001b[0m     \u001b[39mreturn\u001b[39;00m parser\n",
      "File \u001b[1;32mc:\\ProgramData\\anaconda3\\lib\\site-packages\\pandas\\io\\parsers\\readers.py:1442\u001b[0m, in \u001b[0;36mTextFileReader.__init__\u001b[1;34m(self, f, engine, **kwds)\u001b[0m\n\u001b[0;32m   1439\u001b[0m     \u001b[39mself\u001b[39m\u001b[39m.\u001b[39moptions[\u001b[39m\"\u001b[39m\u001b[39mhas_index_names\u001b[39m\u001b[39m\"\u001b[39m] \u001b[39m=\u001b[39m kwds[\u001b[39m\"\u001b[39m\u001b[39mhas_index_names\u001b[39m\u001b[39m\"\u001b[39m]\n\u001b[0;32m   1441\u001b[0m \u001b[39mself\u001b[39m\u001b[39m.\u001b[39mhandles: IOHandles \u001b[39m|\u001b[39m \u001b[39mNone\u001b[39;00m \u001b[39m=\u001b[39m \u001b[39mNone\u001b[39;00m\n\u001b[1;32m-> 1442\u001b[0m \u001b[39mself\u001b[39m\u001b[39m.\u001b[39m_engine \u001b[39m=\u001b[39m \u001b[39mself\u001b[39;49m\u001b[39m.\u001b[39;49m_make_engine(f, \u001b[39mself\u001b[39;49m\u001b[39m.\u001b[39;49mengine)\n",
      "File \u001b[1;32mc:\\ProgramData\\anaconda3\\lib\\site-packages\\pandas\\io\\parsers\\readers.py:1735\u001b[0m, in \u001b[0;36mTextFileReader._make_engine\u001b[1;34m(self, f, engine)\u001b[0m\n\u001b[0;32m   1733\u001b[0m     \u001b[39mif\u001b[39;00m \u001b[39m\"\u001b[39m\u001b[39mb\u001b[39m\u001b[39m\"\u001b[39m \u001b[39mnot\u001b[39;00m \u001b[39min\u001b[39;00m mode:\n\u001b[0;32m   1734\u001b[0m         mode \u001b[39m+\u001b[39m\u001b[39m=\u001b[39m \u001b[39m\"\u001b[39m\u001b[39mb\u001b[39m\u001b[39m\"\u001b[39m\n\u001b[1;32m-> 1735\u001b[0m \u001b[39mself\u001b[39m\u001b[39m.\u001b[39mhandles \u001b[39m=\u001b[39m get_handle(\n\u001b[0;32m   1736\u001b[0m     f,\n\u001b[0;32m   1737\u001b[0m     mode,\n\u001b[0;32m   1738\u001b[0m     encoding\u001b[39m=\u001b[39;49m\u001b[39mself\u001b[39;49m\u001b[39m.\u001b[39;49moptions\u001b[39m.\u001b[39;49mget(\u001b[39m\"\u001b[39;49m\u001b[39mencoding\u001b[39;49m\u001b[39m\"\u001b[39;49m, \u001b[39mNone\u001b[39;49;00m),\n\u001b[0;32m   1739\u001b[0m     compression\u001b[39m=\u001b[39;49m\u001b[39mself\u001b[39;49m\u001b[39m.\u001b[39;49moptions\u001b[39m.\u001b[39;49mget(\u001b[39m\"\u001b[39;49m\u001b[39mcompression\u001b[39;49m\u001b[39m\"\u001b[39;49m, \u001b[39mNone\u001b[39;49;00m),\n\u001b[0;32m   1740\u001b[0m     memory_map\u001b[39m=\u001b[39;49m\u001b[39mself\u001b[39;49m\u001b[39m.\u001b[39;49moptions\u001b[39m.\u001b[39;49mget(\u001b[39m\"\u001b[39;49m\u001b[39mmemory_map\u001b[39;49m\u001b[39m\"\u001b[39;49m, \u001b[39mFalse\u001b[39;49;00m),\n\u001b[0;32m   1741\u001b[0m     is_text\u001b[39m=\u001b[39;49mis_text,\n\u001b[0;32m   1742\u001b[0m     errors\u001b[39m=\u001b[39;49m\u001b[39mself\u001b[39;49m\u001b[39m.\u001b[39;49moptions\u001b[39m.\u001b[39;49mget(\u001b[39m\"\u001b[39;49m\u001b[39mencoding_errors\u001b[39;49m\u001b[39m\"\u001b[39;49m, \u001b[39m\"\u001b[39;49m\u001b[39mstrict\u001b[39;49m\u001b[39m\"\u001b[39;49m),\n\u001b[0;32m   1743\u001b[0m     storage_options\u001b[39m=\u001b[39;49m\u001b[39mself\u001b[39;49m\u001b[39m.\u001b[39;49moptions\u001b[39m.\u001b[39;49mget(\u001b[39m\"\u001b[39;49m\u001b[39mstorage_options\u001b[39;49m\u001b[39m\"\u001b[39;49m, \u001b[39mNone\u001b[39;49;00m),\n\u001b[0;32m   1744\u001b[0m )\n\u001b[0;32m   1745\u001b[0m \u001b[39massert\u001b[39;00m \u001b[39mself\u001b[39m\u001b[39m.\u001b[39mhandles \u001b[39mis\u001b[39;00m \u001b[39mnot\u001b[39;00m \u001b[39mNone\u001b[39;00m\n\u001b[0;32m   1746\u001b[0m f \u001b[39m=\u001b[39m \u001b[39mself\u001b[39m\u001b[39m.\u001b[39mhandles\u001b[39m.\u001b[39mhandle\n",
      "File \u001b[1;32mc:\\ProgramData\\anaconda3\\lib\\site-packages\\pandas\\io\\common.py:856\u001b[0m, in \u001b[0;36mget_handle\u001b[1;34m(path_or_buf, mode, encoding, compression, memory_map, is_text, errors, storage_options)\u001b[0m\n\u001b[0;32m    851\u001b[0m \u001b[39melif\u001b[39;00m \u001b[39misinstance\u001b[39m(handle, \u001b[39mstr\u001b[39m):\n\u001b[0;32m    852\u001b[0m     \u001b[39m# Check whether the filename is to be opened in binary mode.\u001b[39;00m\n\u001b[0;32m    853\u001b[0m     \u001b[39m# Binary mode does not support 'encoding' and 'newline'.\u001b[39;00m\n\u001b[0;32m    854\u001b[0m     \u001b[39mif\u001b[39;00m ioargs\u001b[39m.\u001b[39mencoding \u001b[39mand\u001b[39;00m \u001b[39m\"\u001b[39m\u001b[39mb\u001b[39m\u001b[39m\"\u001b[39m \u001b[39mnot\u001b[39;00m \u001b[39min\u001b[39;00m ioargs\u001b[39m.\u001b[39mmode:\n\u001b[0;32m    855\u001b[0m         \u001b[39m# Encoding\u001b[39;00m\n\u001b[1;32m--> 856\u001b[0m         handle \u001b[39m=\u001b[39m \u001b[39mopen\u001b[39;49m(\n\u001b[0;32m    857\u001b[0m             handle,\n\u001b[0;32m    858\u001b[0m             ioargs\u001b[39m.\u001b[39;49mmode,\n\u001b[0;32m    859\u001b[0m             encoding\u001b[39m=\u001b[39;49mioargs\u001b[39m.\u001b[39;49mencoding,\n\u001b[0;32m    860\u001b[0m             errors\u001b[39m=\u001b[39;49merrors,\n\u001b[0;32m    861\u001b[0m             newline\u001b[39m=\u001b[39;49m\u001b[39m\"\u001b[39;49m\u001b[39m\"\u001b[39;49m,\n\u001b[0;32m    862\u001b[0m         )\n\u001b[0;32m    863\u001b[0m     \u001b[39melse\u001b[39;00m:\n\u001b[0;32m    864\u001b[0m         \u001b[39m# Binary mode\u001b[39;00m\n\u001b[0;32m    865\u001b[0m         handle \u001b[39m=\u001b[39m \u001b[39mopen\u001b[39m(handle, ioargs\u001b[39m.\u001b[39mmode)\n",
      "\u001b[1;31mFileNotFoundError\u001b[0m: [Errno 2] No such file or directory: '2023-08-20_2023-08-27.csv'"
     ]
    }
   ],
   "source": [
    "import pandas as pd\n",
    "news = pd.read_csv('2023-08-20_2023-08-27.csv')\n",
    "news"
   ]
  },
  {
   "cell_type": "code",
   "execution_count": 11,
   "metadata": {},
   "outputs": [
    {
     "data": {
      "text/plain": [
       "'134'"
      ]
     },
     "execution_count": 11,
     "metadata": {},
     "output_type": "execute_result"
    }
   ],
   "source": [
    "import time\n",
    "import datetime\n",
    "import requests\n",
    "from bs4 import BeautifulSoup\n",
    "import pandas as pd\n",
    "from tqdm import tqdm\n",
    "\n",
    "today = datetime.datetime.today()\n",
    "\n",
    "DateStart = (today-datetime.timedelta(7)).strftime('%Y-%m-%d')\n",
    "DateEnd = today.strftime('%Y-%m-%d')\n",
    "\n",
    "\n",
    "last_url = f\"https://finance.naver.com/news/news_search.naver?rcdate=&q=%B1%DD%B8%AE&x=20&y=14&sm=all.basic&pd=4&stDateStart={DateStart}&stDateEnd={DateEnd}&page=1\"\n",
    "headers = {'authority' : 'finance.naver.com',\n",
    "            'User-Agent': 'Mozilla/5.0 (Windows NT 10.0; Win64; x64) AppleWebKit/537.36 (KHTML, like Gecko) Chrome/114.0.0.0 Safari/537.36'}\n",
    "response = requests.get(last_url, headers=headers)\n",
    "soup = BeautifulSoup(response.content)\n",
    "news = soup.select('.pgRR a')[0]['href'][-3:]\n",
    "news"
   ]
  },
  {
   "cell_type": "code",
   "execution_count": 15,
   "metadata": {},
   "outputs": [
    {
     "name": "stderr",
     "output_type": "stream",
     "text": [
      "  0%|          | 0/26 [00:00<?, ?it/s]"
     ]
    },
    {
     "name": "stderr",
     "output_type": "stream",
     "text": [
      "  0%|          | 0/26 [00:00<?, ?it/s]\n"
     ]
    },
    {
     "ename": "NameError",
     "evalue": "name 'reponse' is not defined",
     "output_type": "error",
     "traceback": [
      "\u001b[1;31m---------------------------------------------------------------------------\u001b[0m",
      "\u001b[1;31mNameError\u001b[0m                                 Traceback (most recent call last)",
      "Cell \u001b[1;32mIn[15], line 22\u001b[0m\n\u001b[0;32m     19\u001b[0m headers \u001b[39m=\u001b[39m {\u001b[39m'\u001b[39m\u001b[39mauthority\u001b[39m\u001b[39m'\u001b[39m : \u001b[39m'\u001b[39m\u001b[39mfinance.naver.com\u001b[39m\u001b[39m'\u001b[39m,\n\u001b[0;32m     20\u001b[0m             \u001b[39m'\u001b[39m\u001b[39mUser-Agent\u001b[39m\u001b[39m'\u001b[39m: \u001b[39m'\u001b[39m\u001b[39mMozilla/5.0 (Windows NT 10.0; Win64; x64) AppleWebKit/537.36 (KHTML, like Gecko) Chrome/114.0.0.0 Safari/537.36\u001b[39m\u001b[39m'\u001b[39m}\n\u001b[0;32m     21\u001b[0m response \u001b[39m=\u001b[39m requests\u001b[39m.\u001b[39mget(last_url, headers\u001b[39m=\u001b[39mheaders)\n\u001b[1;32m---> 22\u001b[0m soup \u001b[39m=\u001b[39m BeautifulSoup(reponse\u001b[39m.\u001b[39mtext)\n\u001b[0;32m     23\u001b[0m last_page \u001b[39m=\u001b[39m soup\u001b[39m.\u001b[39mselect(\u001b[39m'\u001b[39m\u001b[39m.pgRR a\u001b[39m\u001b[39m'\u001b[39m)[\u001b[39m0\u001b[39m][\u001b[39m'\u001b[39m\u001b[39mhref\u001b[39m\u001b[39m'\u001b[39m]\u001b[39m.\u001b[39msplit(\u001b[39m'\u001b[39m\u001b[39m=\u001b[39m\u001b[39m'\u001b[39m)[\u001b[39m-\u001b[39m\u001b[39m1\u001b[39m] \u001b[39m#마지막 페이지 가져오기\u001b[39;00m\n\u001b[0;32m     24\u001b[0m \u001b[39mprint\u001b[39m(last_page)\n",
      "\u001b[1;31mNameError\u001b[0m: name 'reponse' is not defined"
     ]
    }
   ],
   "source": [
    "# 채권 기사\n",
    "# BAC(Bond Analysis Crawling)\n",
    "import time\n",
    "import datetime\n",
    "import requests, os\n",
    "from bs4 import BeautifulSoup\n",
    "import pandas as pd\n",
    "from tqdm import tqdm\n",
    "# '채권보고서' 라는 이름으로 검색을 해서 나온 기사 가져오기\n",
    "date_date = pd.date_range('2012-12-30', '2023-08-31', freq='30D') #2013년부터 2023년까지 채권보고서 기사 크롤링(해당 기간동안 130개)\n",
    "date_role = [date_date[:26],date_date[26:52],date_date[52:78],date_date[78:104],date_date[104:]]\n",
    "dir_path = './secret_bond_crawling'\n",
    "os.makedirs(dir_path, exist_ok=True) # mkdir과 달리 이미 해당이름의 폴더가 있어도 에러가 나지 않는다.\n",
    "for date in tqdm(date_role[2]):  #자신의 번호로 인덱싱\n",
    "    df = pd.DataFrame(columns =['신문사', '제목', '내용', '날짜'])\n",
    "    DateStart = date.strftime('%Y-%m-%d')\n",
    "    DateEnd = (date+datetime.timedelta(29)).strftime('%Y-%m-%d')\n",
    "    bond_last_url = f\"https://finance.naver.com/news/news_search.naver?rcdate=&q=%C3%A4%B1%C7+%BA%B8%B0%ED%BC%AD&x=21&y=6&sm=all.basic&pd=4&stDateStart={DateStart}&stDateEnd={DateEnd}&page=1\"\n",
    "    headers = {'authority' : 'finance.naver.com',\n",
    "                'User-Agent': 'Mozilla/5.0 (Windows NT 10.0; Win64; x64) AppleWebKit/537.36 (KHTML, like Gecko) Chrome/114.0.0.0 Safari/537.36'}\n",
    "    response = requests.get(last_url, headers=headers)\n",
    "    soup = BeautifulSoup(reponse.text)\n",
    "    last_page = soup.select('.pgRR a')[0]['href'].split('=')[-1] #마지막 페이지 가져오기\n",
    "    print(last_page)\n",
    "    for i in tqdm(range(1, int(last_page)+1)):   # 여기서 마지막 페이지까지 반복문\n",
    "        bond_url = f\"https://finance.naver.com/news/news_search.naver?rcdate=&q=%C3%A4%B1%C7+%BA%B8%B0%ED%BC%AD&x=21&y=6&sm=all.basic&pd=4&stDateStart={DateStart}&stDateEnd={DateEnd}&page={i}\"\n",
    "        headers = {'authority' : 'finance.naver.com',\n",
    "                    'User-Agent': 'Mozilla/5.0 (Windows NT 10.0; Win64; x64) AppleWebKit/537.36 (KHTML, like Gecko) Chrome/114.0.0.0 Safari/537.36'}\n",
    "        response = requests.get(news_url, headers=headers)\n",
    "        soup = BeautifulSoup(reponse.text)\n",
    "        news = soup.select('.thumb a' )\n",
    "        magazine = soup.select('.articleSummary .press') #신문사 데이터\n",
    "        newsdate = soup.select('.articleSummary .wdate') # 날짜 데이터\n",
    "        news_link = []\n",
    "        magazine_name = []\n",
    "        dates = []\n",
    "        for i in range(len(news)):\n",
    "            news_link.append('https://finance.naver.com' + news[i].attrs['href'].replace('amp;', ''))  #amp;제거해서 링크활성화\n",
    "            magazine_name.append(magazine[i].text)\n",
    "            dates.append(newsdate[i])\n",
    "        total = []\n",
    "        for index, j in enumerate(news_link):\n",
    "            news_resp = requests.get(j, headers=headers)\n",
    "            news_soup = BeautifulSoup(news_resp.text)\n",
    "            try:\n",
    "                title = news_soup.select('.article_info h3')[0].text.strip()\n",
    "                content = news_soup.select('#content')[-1].text.strip()\n",
    "            except:\n",
    "                print(j)\n",
    "                continue\n",
    "            total.append([magazine_name[index],title, content, newsdate[index].text.lstrip()[:10]])\n",
    "        df_temp = pd.DataFrame(total, columns = ['신문사', '제목', '내용', '날짜'])  #모든 리스트를 데이터프레임으로 전환\n",
    "        df = pd.concat([df, df_temp], ignore_index = True)\n",
    "    df.to_csv(f'{dir_path}/{DateStart}_{DateEnd}.csv', encoding='utf-8') # 1주일 간격으로 크롤링 데이터 저장"
   ]
  }
 ],
 "metadata": {
  "kernelspec": {
   "display_name": "Python 3.10.12 ('base')",
   "language": "python",
   "name": "python3"
  },
  "language_info": {
   "codemirror_mode": {
    "name": "ipython",
    "version": 3
   },
   "file_extension": ".py",
   "mimetype": "text/x-python",
   "name": "python",
   "nbconvert_exporter": "python",
   "pygments_lexer": "ipython3",
   "version": "3.10.9"
  },
  "orig_nbformat": 4,
  "vscode": {
   "interpreter": {
    "hash": "29865f05af80384af78d9233101596088e9d9771dcfe0a2d252f1a59aee54b06"
   }
  }
 },
 "nbformat": 4,
 "nbformat_minor": 2
}
